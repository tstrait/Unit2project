{
 "cells": [
  {
   "cell_type": "markdown",
   "metadata": {},
   "source": [
    "<img src=\"http://imgur.com/1ZcRyrc.png\" style=\"float: left; margin: 20px; height: 55px\">\n",
    "\n",
    "# Project 2: Analyzing IMDb Data\n",
    "\n",
    "_Author: Kevin Markham (DC)_\n",
    "\n",
    "---"
   ]
  },
  {
   "cell_type": "markdown",
   "metadata": {},
   "source": [
    "For project two, you will complete a serious of exercises exploring movie rating data from IMDb.\n",
    "\n",
    "For these exercises, you will be conducting basic exploratory data analysis on IMDB's movie data, looking to answer such questions as:\n",
    "\n",
    "What is the average rating per genre?\n",
    "How many different actors are in a movie?\n",
    "\n",
    "This process will help you practice your data analysis skills while becoming comfortable with Pandas."
   ]
  },
  {
   "cell_type": "markdown",
   "metadata": {},
   "source": [
    "## Basic level"
   ]
  },
  {
   "cell_type": "code",
   "execution_count": 3,
   "metadata": {},
   "outputs": [],
   "source": [
    "import pandas as pd\n",
    "import matplotlib.pyplot as plt\n",
    "%matplotlib inline"
   ]
  },
  {
   "cell_type": "markdown",
   "metadata": {},
   "source": [
    "#### Read in 'imdb_1000.csv' and store it in a DataFrame named movies."
   ]
  },
  {
   "cell_type": "code",
   "execution_count": 4,
   "metadata": {},
   "outputs": [
    {
     "data": {
      "text/html": [
       "<div>\n",
       "<style scoped>\n",
       "    .dataframe tbody tr th:only-of-type {\n",
       "        vertical-align: middle;\n",
       "    }\n",
       "\n",
       "    .dataframe tbody tr th {\n",
       "        vertical-align: top;\n",
       "    }\n",
       "\n",
       "    .dataframe thead th {\n",
       "        text-align: right;\n",
       "    }\n",
       "</style>\n",
       "<table border=\"1\" class=\"dataframe\">\n",
       "  <thead>\n",
       "    <tr style=\"text-align: right;\">\n",
       "      <th></th>\n",
       "      <th>star_rating</th>\n",
       "      <th>title</th>\n",
       "      <th>content_rating</th>\n",
       "      <th>genre</th>\n",
       "      <th>duration</th>\n",
       "      <th>actors_list</th>\n",
       "    </tr>\n",
       "  </thead>\n",
       "  <tbody>\n",
       "    <tr>\n",
       "      <th>0</th>\n",
       "      <td>9.3</td>\n",
       "      <td>The Shawshank Redemption</td>\n",
       "      <td>R</td>\n",
       "      <td>Crime</td>\n",
       "      <td>142</td>\n",
       "      <td>[u'Tim Robbins', u'Morgan Freeman', u'Bob Gunt...</td>\n",
       "    </tr>\n",
       "    <tr>\n",
       "      <th>1</th>\n",
       "      <td>9.2</td>\n",
       "      <td>The Godfather</td>\n",
       "      <td>R</td>\n",
       "      <td>Crime</td>\n",
       "      <td>175</td>\n",
       "      <td>[u'Marlon Brando', u'Al Pacino', u'James Caan']</td>\n",
       "    </tr>\n",
       "    <tr>\n",
       "      <th>2</th>\n",
       "      <td>9.1</td>\n",
       "      <td>The Godfather: Part II</td>\n",
       "      <td>R</td>\n",
       "      <td>Crime</td>\n",
       "      <td>200</td>\n",
       "      <td>[u'Al Pacino', u'Robert De Niro', u'Robert Duv...</td>\n",
       "    </tr>\n",
       "    <tr>\n",
       "      <th>3</th>\n",
       "      <td>9.0</td>\n",
       "      <td>The Dark Knight</td>\n",
       "      <td>PG-13</td>\n",
       "      <td>Action</td>\n",
       "      <td>152</td>\n",
       "      <td>[u'Christian Bale', u'Heath Ledger', u'Aaron E...</td>\n",
       "    </tr>\n",
       "    <tr>\n",
       "      <th>4</th>\n",
       "      <td>8.9</td>\n",
       "      <td>Pulp Fiction</td>\n",
       "      <td>R</td>\n",
       "      <td>Crime</td>\n",
       "      <td>154</td>\n",
       "      <td>[u'John Travolta', u'Uma Thurman', u'Samuel L....</td>\n",
       "    </tr>\n",
       "  </tbody>\n",
       "</table>\n",
       "</div>"
      ],
      "text/plain": [
       "   star_rating                     title content_rating   genre  duration  \\\n",
       "0          9.3  The Shawshank Redemption              R   Crime       142   \n",
       "1          9.2             The Godfather              R   Crime       175   \n",
       "2          9.1    The Godfather: Part II              R   Crime       200   \n",
       "3          9.0           The Dark Knight          PG-13  Action       152   \n",
       "4          8.9              Pulp Fiction              R   Crime       154   \n",
       "\n",
       "                                         actors_list  \n",
       "0  [u'Tim Robbins', u'Morgan Freeman', u'Bob Gunt...  \n",
       "1    [u'Marlon Brando', u'Al Pacino', u'James Caan']  \n",
       "2  [u'Al Pacino', u'Robert De Niro', u'Robert Duv...  \n",
       "3  [u'Christian Bale', u'Heath Ledger', u'Aaron E...  \n",
       "4  [u'John Travolta', u'Uma Thurman', u'Samuel L....  "
      ]
     },
     "execution_count": 4,
     "metadata": {},
     "output_type": "execute_result"
    }
   ],
   "source": [
    "movies = pd.read_csv('./data/imdb_1000.csv')\n",
    "movies.head()"
   ]
  },
  {
   "cell_type": "markdown",
   "metadata": {},
   "source": [
    "#### Check the number of rows and columns."
   ]
  },
  {
   "cell_type": "code",
   "execution_count": 5,
   "metadata": {},
   "outputs": [
    {
     "data": {
      "text/plain": [
       "(979, 6)"
      ]
     },
     "execution_count": 5,
     "metadata": {},
     "output_type": "execute_result"
    }
   ],
   "source": [
    "# Answer:\n",
    "movies.shape"
   ]
  },
  {
   "cell_type": "markdown",
   "metadata": {},
   "source": [
    "#### Check the data type of each column."
   ]
  },
  {
   "cell_type": "code",
   "execution_count": 6,
   "metadata": {},
   "outputs": [
    {
     "data": {
      "text/plain": [
       "star_rating       float64\n",
       "title              object\n",
       "content_rating     object\n",
       "genre              object\n",
       "duration            int64\n",
       "actors_list        object\n",
       "dtype: object"
      ]
     },
     "execution_count": 6,
     "metadata": {},
     "output_type": "execute_result"
    }
   ],
   "source": [
    "# Answer:\n",
    "movies.dtypes"
   ]
  },
  {
   "cell_type": "markdown",
   "metadata": {},
   "source": [
    "#### Calculate the average movie duration."
   ]
  },
  {
   "cell_type": "code",
   "execution_count": 7,
   "metadata": {},
   "outputs": [
    {
     "data": {
      "text/plain": [
       "120.97957099080695"
      ]
     },
     "execution_count": 7,
     "metadata": {},
     "output_type": "execute_result"
    }
   ],
   "source": [
    "# Answer:\n",
    "movies.loc[:, 'duration'].mean()"
   ]
  },
  {
   "cell_type": "markdown",
   "metadata": {},
   "source": [
    "#### Sort the DataFrame by duration to find the shortest and longest movies."
   ]
  },
  {
   "cell_type": "code",
   "execution_count": 8,
   "metadata": {},
   "outputs": [
    {
     "data": {
      "text/html": [
       "<div>\n",
       "<style scoped>\n",
       "    .dataframe tbody tr th:only-of-type {\n",
       "        vertical-align: middle;\n",
       "    }\n",
       "\n",
       "    .dataframe tbody tr th {\n",
       "        vertical-align: top;\n",
       "    }\n",
       "\n",
       "    .dataframe thead th {\n",
       "        text-align: right;\n",
       "    }\n",
       "</style>\n",
       "<table border=\"1\" class=\"dataframe\">\n",
       "  <thead>\n",
       "    <tr style=\"text-align: right;\">\n",
       "      <th></th>\n",
       "      <th>star_rating</th>\n",
       "      <th>title</th>\n",
       "      <th>content_rating</th>\n",
       "      <th>genre</th>\n",
       "      <th>duration</th>\n",
       "      <th>actors_list</th>\n",
       "    </tr>\n",
       "  </thead>\n",
       "  <tbody>\n",
       "    <tr>\n",
       "      <th>476</th>\n",
       "      <td>7.8</td>\n",
       "      <td>Hamlet</td>\n",
       "      <td>PG-13</td>\n",
       "      <td>Drama</td>\n",
       "      <td>242</td>\n",
       "      <td>[u'Kenneth Branagh', u'Julie Christie', u'Dere...</td>\n",
       "    </tr>\n",
       "    <tr>\n",
       "      <th>157</th>\n",
       "      <td>8.2</td>\n",
       "      <td>Gone with the Wind</td>\n",
       "      <td>G</td>\n",
       "      <td>Drama</td>\n",
       "      <td>238</td>\n",
       "      <td>[u'Clark Gable', u'Vivien Leigh', u'Thomas Mit...</td>\n",
       "    </tr>\n",
       "    <tr>\n",
       "      <th>78</th>\n",
       "      <td>8.4</td>\n",
       "      <td>Once Upon a Time in America</td>\n",
       "      <td>R</td>\n",
       "      <td>Crime</td>\n",
       "      <td>229</td>\n",
       "      <td>[u'Robert De Niro', u'James Woods', u'Elizabet...</td>\n",
       "    </tr>\n",
       "    <tr>\n",
       "      <th>142</th>\n",
       "      <td>8.3</td>\n",
       "      <td>Lagaan: Once Upon a Time in India</td>\n",
       "      <td>PG</td>\n",
       "      <td>Adventure</td>\n",
       "      <td>224</td>\n",
       "      <td>[u'Aamir Khan', u'Gracy Singh', u'Rachel Shell...</td>\n",
       "    </tr>\n",
       "    <tr>\n",
       "      <th>445</th>\n",
       "      <td>7.9</td>\n",
       "      <td>The Ten Commandments</td>\n",
       "      <td>APPROVED</td>\n",
       "      <td>Adventure</td>\n",
       "      <td>220</td>\n",
       "      <td>[u'Charlton Heston', u'Yul Brynner', u'Anne Ba...</td>\n",
       "    </tr>\n",
       "    <tr>\n",
       "      <th>85</th>\n",
       "      <td>8.4</td>\n",
       "      <td>Lawrence of Arabia</td>\n",
       "      <td>PG</td>\n",
       "      <td>Adventure</td>\n",
       "      <td>216</td>\n",
       "      <td>[u\"Peter O'Toole\", u'Alec Guinness', u'Anthony...</td>\n",
       "    </tr>\n",
       "    <tr>\n",
       "      <th>204</th>\n",
       "      <td>8.1</td>\n",
       "      <td>Ben-Hur</td>\n",
       "      <td>G</td>\n",
       "      <td>Adventure</td>\n",
       "      <td>212</td>\n",
       "      <td>[u'Charlton Heston', u'Jack Hawkins', u'Stephe...</td>\n",
       "    </tr>\n",
       "    <tr>\n",
       "      <th>17</th>\n",
       "      <td>8.7</td>\n",
       "      <td>Seven Samurai</td>\n",
       "      <td>UNRATED</td>\n",
       "      <td>Drama</td>\n",
       "      <td>207</td>\n",
       "      <td>[u'Toshir\\xf4 Mifune', u'Takashi Shimura', u'K...</td>\n",
       "    </tr>\n",
       "    <tr>\n",
       "      <th>767</th>\n",
       "      <td>7.6</td>\n",
       "      <td>It's a Mad, Mad, Mad, Mad World</td>\n",
       "      <td>APPROVED</td>\n",
       "      <td>Action</td>\n",
       "      <td>205</td>\n",
       "      <td>[u'Spencer Tracy', u'Milton Berle', u'Ethel Me...</td>\n",
       "    </tr>\n",
       "    <tr>\n",
       "      <th>630</th>\n",
       "      <td>7.7</td>\n",
       "      <td>Malcolm X</td>\n",
       "      <td>PG-13</td>\n",
       "      <td>Biography</td>\n",
       "      <td>202</td>\n",
       "      <td>[u'Denzel Washington', u'Angela Bassett', u'De...</td>\n",
       "    </tr>\n",
       "    <tr>\n",
       "      <th>7</th>\n",
       "      <td>8.9</td>\n",
       "      <td>The Lord of the Rings: The Return of the King</td>\n",
       "      <td>PG-13</td>\n",
       "      <td>Adventure</td>\n",
       "      <td>201</td>\n",
       "      <td>[u'Elijah Wood', u'Viggo Mortensen', u'Ian McK...</td>\n",
       "    </tr>\n",
       "    <tr>\n",
       "      <th>2</th>\n",
       "      <td>9.1</td>\n",
       "      <td>The Godfather: Part II</td>\n",
       "      <td>R</td>\n",
       "      <td>Crime</td>\n",
       "      <td>200</td>\n",
       "      <td>[u'Al Pacino', u'Robert De Niro', u'Robert Duv...</td>\n",
       "    </tr>\n",
       "    <tr>\n",
       "      <th>335</th>\n",
       "      <td>8.0</td>\n",
       "      <td>Doctor Zhivago</td>\n",
       "      <td>PG-13</td>\n",
       "      <td>Drama</td>\n",
       "      <td>197</td>\n",
       "      <td>[u'Omar Sharif', u'Julie Christie', u'Geraldin...</td>\n",
       "    </tr>\n",
       "    <tr>\n",
       "      <th>385</th>\n",
       "      <td>8.0</td>\n",
       "      <td>Spartacus</td>\n",
       "      <td>PG-13</td>\n",
       "      <td>Action</td>\n",
       "      <td>197</td>\n",
       "      <td>[u'Kirk Douglas', u'Laurence Olivier', u'Jean ...</td>\n",
       "    </tr>\n",
       "    <tr>\n",
       "      <th>8</th>\n",
       "      <td>8.9</td>\n",
       "      <td>Schindler's List</td>\n",
       "      <td>R</td>\n",
       "      <td>Biography</td>\n",
       "      <td>195</td>\n",
       "      <td>[u'Liam Neeson', u'Ralph Fiennes', u'Ben Kings...</td>\n",
       "    </tr>\n",
       "    <tr>\n",
       "      <th>620</th>\n",
       "      <td>7.7</td>\n",
       "      <td>Titanic</td>\n",
       "      <td>PG-13</td>\n",
       "      <td>Drama</td>\n",
       "      <td>194</td>\n",
       "      <td>[u'Leonardo DiCaprio', u'Kate Winslet', u'Bill...</td>\n",
       "    </tr>\n",
       "    <tr>\n",
       "      <th>424</th>\n",
       "      <td>7.9</td>\n",
       "      <td>The Right Stuff</td>\n",
       "      <td>R</td>\n",
       "      <td>Adventure</td>\n",
       "      <td>193</td>\n",
       "      <td>[u'Sam Shepard', u'Scott Glenn', u'Ed Harris']</td>\n",
       "    </tr>\n",
       "    <tr>\n",
       "      <th>220</th>\n",
       "      <td>8.1</td>\n",
       "      <td>Gandhi</td>\n",
       "      <td>PG</td>\n",
       "      <td>Biography</td>\n",
       "      <td>191</td>\n",
       "      <td>[u'Ben Kingsley', u'John Gielgud', u'Candice B...</td>\n",
       "    </tr>\n",
       "    <tr>\n",
       "      <th>671</th>\n",
       "      <td>7.7</td>\n",
       "      <td>Grindhouse</td>\n",
       "      <td>R</td>\n",
       "      <td>Action</td>\n",
       "      <td>191</td>\n",
       "      <td>[u'Kurt Russell', u'Rose McGowan', u'Danny Tre...</td>\n",
       "    </tr>\n",
       "    <tr>\n",
       "      <th>89</th>\n",
       "      <td>8.4</td>\n",
       "      <td>Swades</td>\n",
       "      <td>NOT RATED</td>\n",
       "      <td>Drama</td>\n",
       "      <td>189</td>\n",
       "      <td>[u'Shah Rukh Khan', u'Gayatri Joshi', u'Kishor...</td>\n",
       "    </tr>\n",
       "    <tr>\n",
       "      <th>40</th>\n",
       "      <td>8.5</td>\n",
       "      <td>The Green Mile</td>\n",
       "      <td>R</td>\n",
       "      <td>Crime</td>\n",
       "      <td>189</td>\n",
       "      <td>[u'Tom Hanks', u'Michael Clarke Duncan', u'Dav...</td>\n",
       "    </tr>\n",
       "    <tr>\n",
       "      <th>316</th>\n",
       "      <td>8.0</td>\n",
       "      <td>JFK</td>\n",
       "      <td>R</td>\n",
       "      <td>Drama</td>\n",
       "      <td>189</td>\n",
       "      <td>[u'Kevin Costner', u'Gary Oldman', u'Jack Lemm...</td>\n",
       "    </tr>\n",
       "    <tr>\n",
       "      <th>184</th>\n",
       "      <td>8.2</td>\n",
       "      <td>Fanny and Alexander</td>\n",
       "      <td>R</td>\n",
       "      <td>Drama</td>\n",
       "      <td>188</td>\n",
       "      <td>[u'Bertil Guve', u'Pernilla Allwin', u'Kristin...</td>\n",
       "    </tr>\n",
       "    <tr>\n",
       "      <th>318</th>\n",
       "      <td>8.0</td>\n",
       "      <td>Magnolia</td>\n",
       "      <td>R</td>\n",
       "      <td>Drama</td>\n",
       "      <td>188</td>\n",
       "      <td>[u'Tom Cruise', u'Jason Robards', u'Julianne M...</td>\n",
       "    </tr>\n",
       "    <tr>\n",
       "      <th>611</th>\n",
       "      <td>7.7</td>\n",
       "      <td>Short Cuts</td>\n",
       "      <td>R</td>\n",
       "      <td>Comedy</td>\n",
       "      <td>187</td>\n",
       "      <td>[u'Andie MacDowell', u'Julianne Moore', u'Tim ...</td>\n",
       "    </tr>\n",
       "    <tr>\n",
       "      <th>132</th>\n",
       "      <td>8.3</td>\n",
       "      <td>Judgment at Nuremberg</td>\n",
       "      <td>NOT RATED</td>\n",
       "      <td>Drama</td>\n",
       "      <td>186</td>\n",
       "      <td>[u'Spencer Tracy', u'Burt Lancaster', u'Richar...</td>\n",
       "    </tr>\n",
       "    <tr>\n",
       "      <th>245</th>\n",
       "      <td>8.1</td>\n",
       "      <td>Barry Lyndon</td>\n",
       "      <td>PG</td>\n",
       "      <td>Adventure</td>\n",
       "      <td>184</td>\n",
       "      <td>[u\"Ryan O'Neal\", u'Marisa Berenson', u'Patrick...</td>\n",
       "    </tr>\n",
       "    <tr>\n",
       "      <th>109</th>\n",
       "      <td>8.3</td>\n",
       "      <td>Dil Chahta Hai</td>\n",
       "      <td>NOT RATED</td>\n",
       "      <td>Comedy</td>\n",
       "      <td>183</td>\n",
       "      <td>[u'Aamir Khan', u'Saif Ali Khan', u'Akshaye Kh...</td>\n",
       "    </tr>\n",
       "    <tr>\n",
       "      <th>166</th>\n",
       "      <td>8.2</td>\n",
       "      <td>The Deer Hunter</td>\n",
       "      <td>R</td>\n",
       "      <td>Drama</td>\n",
       "      <td>182</td>\n",
       "      <td>[u'Robert De Niro', u'Christopher Walken', u'J...</td>\n",
       "    </tr>\n",
       "    <tr>\n",
       "      <th>93</th>\n",
       "      <td>8.4</td>\n",
       "      <td>Dilwale Dulhania Le Jayenge</td>\n",
       "      <td>NOT RATED</td>\n",
       "      <td>Comedy</td>\n",
       "      <td>181</td>\n",
       "      <td>[u'Shah Rukh Khan', u'Kajol', u'Amrish Puri']</td>\n",
       "    </tr>\n",
       "    <tr>\n",
       "      <th>...</th>\n",
       "      <td>...</td>\n",
       "      <td>...</td>\n",
       "      <td>...</td>\n",
       "      <td>...</td>\n",
       "      <td>...</td>\n",
       "      <td>...</td>\n",
       "    </tr>\n",
       "    <tr>\n",
       "      <th>881</th>\n",
       "      <td>7.5</td>\n",
       "      <td>The Texas Chain Saw Massacre</td>\n",
       "      <td>R</td>\n",
       "      <td>Horror</td>\n",
       "      <td>83</td>\n",
       "      <td>[u'Marilyn Burns', u'Edwin Neal', u'Allen Danz...</td>\n",
       "    </tr>\n",
       "    <tr>\n",
       "      <th>766</th>\n",
       "      <td>7.6</td>\n",
       "      <td>The Little Mermaid</td>\n",
       "      <td>G</td>\n",
       "      <td>Animation</td>\n",
       "      <td>83</td>\n",
       "      <td>[u'Jodi Benson', u'Samuel E. Wright', u'Rene A...</td>\n",
       "    </tr>\n",
       "    <tr>\n",
       "      <th>174</th>\n",
       "      <td>8.2</td>\n",
       "      <td>Persona</td>\n",
       "      <td>NOT RATED</td>\n",
       "      <td>Drama</td>\n",
       "      <td>83</td>\n",
       "      <td>[u'Bibi Andersson', u'Liv Ullmann', u'Margaret...</td>\n",
       "    </tr>\n",
       "    <tr>\n",
       "      <th>306</th>\n",
       "      <td>8.0</td>\n",
       "      <td>This Is Spinal Tap</td>\n",
       "      <td>R</td>\n",
       "      <td>Comedy</td>\n",
       "      <td>82</td>\n",
       "      <td>[u'Rob Reiner', u'Michael McKean', u'Christoph...</td>\n",
       "    </tr>\n",
       "    <tr>\n",
       "      <th>595</th>\n",
       "      <td>7.7</td>\n",
       "      <td>The Purple Rose of Cairo</td>\n",
       "      <td>PG</td>\n",
       "      <td>Comedy</td>\n",
       "      <td>82</td>\n",
       "      <td>[u'Mia Farrow', u'Jeff Daniels', u'Danny Aiello']</td>\n",
       "    </tr>\n",
       "    <tr>\n",
       "      <th>738</th>\n",
       "      <td>7.6</td>\n",
       "      <td>Army of Darkness</td>\n",
       "      <td>R</td>\n",
       "      <td>Comedy</td>\n",
       "      <td>81</td>\n",
       "      <td>[u'Bruce Campbell', u'Embeth Davidtz', u'Marcu...</td>\n",
       "    </tr>\n",
       "    <tr>\n",
       "      <th>541</th>\n",
       "      <td>7.8</td>\n",
       "      <td>South Park: Bigger Longer &amp; Uncut</td>\n",
       "      <td>R</td>\n",
       "      <td>Animation</td>\n",
       "      <td>81</td>\n",
       "      <td>[u'Trey Parker', u'Matt Stone', u'Mary Kay Ber...</td>\n",
       "    </tr>\n",
       "    <tr>\n",
       "      <th>117</th>\n",
       "      <td>8.3</td>\n",
       "      <td>Toy Story</td>\n",
       "      <td>G</td>\n",
       "      <td>Animation</td>\n",
       "      <td>81</td>\n",
       "      <td>[u'Tom Hanks', u'Tim Allen', u'Don Rickles']</td>\n",
       "    </tr>\n",
       "    <tr>\n",
       "      <th>789</th>\n",
       "      <td>7.6</td>\n",
       "      <td>Ice Age</td>\n",
       "      <td>PG</td>\n",
       "      <td>Animation</td>\n",
       "      <td>81</td>\n",
       "      <td>[u'Denis Leary', u'John Leguizamo', u'Ray Roma...</td>\n",
       "    </tr>\n",
       "    <tr>\n",
       "      <th>330</th>\n",
       "      <td>8.0</td>\n",
       "      <td>Nosferatu</td>\n",
       "      <td>UNRATED</td>\n",
       "      <td>Horror</td>\n",
       "      <td>81</td>\n",
       "      <td>[u'Max Schreck', u'Greta Schr\\xf6der', u'Ruth ...</td>\n",
       "    </tr>\n",
       "    <tr>\n",
       "      <th>853</th>\n",
       "      <td>7.5</td>\n",
       "      <td>L'illusionniste</td>\n",
       "      <td>PG</td>\n",
       "      <td>Animation</td>\n",
       "      <td>80</td>\n",
       "      <td>[u'Jean-Claude Donda', u'Eilidh Rankin', u'Dun...</td>\n",
       "    </tr>\n",
       "    <tr>\n",
       "      <th>297</th>\n",
       "      <td>8.0</td>\n",
       "      <td>Rope</td>\n",
       "      <td>PG</td>\n",
       "      <td>Crime</td>\n",
       "      <td>80</td>\n",
       "      <td>[u'James Stewart', u'John Dall', u'Farley Gran...</td>\n",
       "    </tr>\n",
       "    <tr>\n",
       "      <th>283</th>\n",
       "      <td>8.1</td>\n",
       "      <td>Before Sunset</td>\n",
       "      <td>R</td>\n",
       "      <td>Drama</td>\n",
       "      <td>80</td>\n",
       "      <td>[u'Ethan Hawke', u'Julie Delpy', u'Vernon Dobt...</td>\n",
       "    </tr>\n",
       "    <tr>\n",
       "      <th>513</th>\n",
       "      <td>7.8</td>\n",
       "      <td>Invasion of the Body Snatchers</td>\n",
       "      <td>APPROVED</td>\n",
       "      <td>Horror</td>\n",
       "      <td>80</td>\n",
       "      <td>[u'Kevin McCarthy', u'Dana Wynter', u'Larry Ga...</td>\n",
       "    </tr>\n",
       "    <tr>\n",
       "      <th>533</th>\n",
       "      <td>7.8</td>\n",
       "      <td>Run Lola Run</td>\n",
       "      <td>R</td>\n",
       "      <td>Action</td>\n",
       "      <td>80</td>\n",
       "      <td>[u'Franka Potente', u'Moritz Bleibtreu', u'Her...</td>\n",
       "    </tr>\n",
       "    <tr>\n",
       "      <th>622</th>\n",
       "      <td>7.7</td>\n",
       "      <td>The Dinner Game</td>\n",
       "      <td>PG-13</td>\n",
       "      <td>Comedy</td>\n",
       "      <td>80</td>\n",
       "      <td>[u'Thierry Lhermitte', u'Jacques Villeret', u'...</td>\n",
       "    </tr>\n",
       "    <tr>\n",
       "      <th>535</th>\n",
       "      <td>7.8</td>\n",
       "      <td>Zelig</td>\n",
       "      <td>PG</td>\n",
       "      <td>Comedy</td>\n",
       "      <td>79</td>\n",
       "      <td>[u'Woody Allen', u'Mia Farrow', u'Patrick Horg...</td>\n",
       "    </tr>\n",
       "    <tr>\n",
       "      <th>489</th>\n",
       "      <td>7.8</td>\n",
       "      <td>The Triplets of Belleville</td>\n",
       "      <td>PG-13</td>\n",
       "      <td>Animation</td>\n",
       "      <td>78</td>\n",
       "      <td>[u'Mich\\xe8le Caucheteux', u'Jean-Claude Donda...</td>\n",
       "    </tr>\n",
       "    <tr>\n",
       "      <th>864</th>\n",
       "      <td>7.5</td>\n",
       "      <td>[Rec]</td>\n",
       "      <td>R</td>\n",
       "      <td>Horror</td>\n",
       "      <td>78</td>\n",
       "      <td>[u'Manuela Velasco', u'Ferran Terraza', u'Jorg...</td>\n",
       "    </tr>\n",
       "    <tr>\n",
       "      <th>713</th>\n",
       "      <td>7.6</td>\n",
       "      <td>The Jungle Book</td>\n",
       "      <td>APPROVED</td>\n",
       "      <td>Animation</td>\n",
       "      <td>78</td>\n",
       "      <td>[u'Phil Harris', u'Sebastian Cabot', u'Louis P...</td>\n",
       "    </tr>\n",
       "    <tr>\n",
       "      <th>303</th>\n",
       "      <td>8.0</td>\n",
       "      <td>The Nightmare Before Christmas</td>\n",
       "      <td>PG</td>\n",
       "      <td>Animation</td>\n",
       "      <td>76</td>\n",
       "      <td>[u'Danny Elfman', u'Chris Sarandon', u\"Catheri...</td>\n",
       "    </tr>\n",
       "    <tr>\n",
       "      <th>405</th>\n",
       "      <td>7.9</td>\n",
       "      <td>The Bride of Frankenstein</td>\n",
       "      <td>NOT RATED</td>\n",
       "      <td>Horror</td>\n",
       "      <td>75</td>\n",
       "      <td>[u'Boris Karloff', u'Elsa Lanchester', u'Colin...</td>\n",
       "    </tr>\n",
       "    <tr>\n",
       "      <th>938</th>\n",
       "      <td>7.4</td>\n",
       "      <td>Alice in Wonderland</td>\n",
       "      <td>G</td>\n",
       "      <td>Animation</td>\n",
       "      <td>75</td>\n",
       "      <td>[u'Kathryn Beaumont', u'Ed Wynn', u'Richard Ha...</td>\n",
       "    </tr>\n",
       "    <tr>\n",
       "      <th>351</th>\n",
       "      <td>8.0</td>\n",
       "      <td>Frankenstein</td>\n",
       "      <td>UNRATED</td>\n",
       "      <td>Horror</td>\n",
       "      <td>70</td>\n",
       "      <td>[u'Colin Clive', u'Mae Clarke', u'Boris Karloff']</td>\n",
       "    </tr>\n",
       "    <tr>\n",
       "      <th>742</th>\n",
       "      <td>7.6</td>\n",
       "      <td>Following</td>\n",
       "      <td>R</td>\n",
       "      <td>Mystery</td>\n",
       "      <td>69</td>\n",
       "      <td>[u'Jeremy Theobald', u'Alex Haw', u'Lucy Russe...</td>\n",
       "    </tr>\n",
       "    <tr>\n",
       "      <th>293</th>\n",
       "      <td>8.1</td>\n",
       "      <td>Duck Soup</td>\n",
       "      <td>PASSED</td>\n",
       "      <td>Comedy</td>\n",
       "      <td>68</td>\n",
       "      <td>[u'Groucho Marx', u'Harpo Marx', u'Chico Marx']</td>\n",
       "    </tr>\n",
       "    <tr>\n",
       "      <th>88</th>\n",
       "      <td>8.4</td>\n",
       "      <td>The Kid</td>\n",
       "      <td>NOT RATED</td>\n",
       "      <td>Comedy</td>\n",
       "      <td>68</td>\n",
       "      <td>[u'Charles Chaplin', u'Edna Purviance', u'Jack...</td>\n",
       "    </tr>\n",
       "    <tr>\n",
       "      <th>258</th>\n",
       "      <td>8.1</td>\n",
       "      <td>The Cabinet of Dr. Caligari</td>\n",
       "      <td>UNRATED</td>\n",
       "      <td>Crime</td>\n",
       "      <td>67</td>\n",
       "      <td>[u'Werner Krauss', u'Conrad Veidt', u'Friedric...</td>\n",
       "    </tr>\n",
       "    <tr>\n",
       "      <th>338</th>\n",
       "      <td>8.0</td>\n",
       "      <td>Battleship Potemkin</td>\n",
       "      <td>UNRATED</td>\n",
       "      <td>History</td>\n",
       "      <td>66</td>\n",
       "      <td>[u'Aleksandr Antonov', u'Vladimir Barsky', u'G...</td>\n",
       "    </tr>\n",
       "    <tr>\n",
       "      <th>389</th>\n",
       "      <td>8.0</td>\n",
       "      <td>Freaks</td>\n",
       "      <td>UNRATED</td>\n",
       "      <td>Drama</td>\n",
       "      <td>64</td>\n",
       "      <td>[u'Wallace Ford', u'Leila Hyams', u'Olga Bacla...</td>\n",
       "    </tr>\n",
       "  </tbody>\n",
       "</table>\n",
       "<p>979 rows × 6 columns</p>\n",
       "</div>"
      ],
      "text/plain": [
       "     star_rating                                          title  \\\n",
       "476          7.8                                         Hamlet   \n",
       "157          8.2                             Gone with the Wind   \n",
       "78           8.4                    Once Upon a Time in America   \n",
       "142          8.3              Lagaan: Once Upon a Time in India   \n",
       "445          7.9                           The Ten Commandments   \n",
       "85           8.4                             Lawrence of Arabia   \n",
       "204          8.1                                        Ben-Hur   \n",
       "17           8.7                                  Seven Samurai   \n",
       "767          7.6                It's a Mad, Mad, Mad, Mad World   \n",
       "630          7.7                                      Malcolm X   \n",
       "7            8.9  The Lord of the Rings: The Return of the King   \n",
       "2            9.1                         The Godfather: Part II   \n",
       "335          8.0                                 Doctor Zhivago   \n",
       "385          8.0                                      Spartacus   \n",
       "8            8.9                               Schindler's List   \n",
       "620          7.7                                        Titanic   \n",
       "424          7.9                                The Right Stuff   \n",
       "220          8.1                                         Gandhi   \n",
       "671          7.7                                     Grindhouse   \n",
       "89           8.4                                         Swades   \n",
       "40           8.5                                 The Green Mile   \n",
       "316          8.0                                            JFK   \n",
       "184          8.2                            Fanny and Alexander   \n",
       "318          8.0                                       Magnolia   \n",
       "611          7.7                                     Short Cuts   \n",
       "132          8.3                          Judgment at Nuremberg   \n",
       "245          8.1                                   Barry Lyndon   \n",
       "109          8.3                                 Dil Chahta Hai   \n",
       "166          8.2                                The Deer Hunter   \n",
       "93           8.4                    Dilwale Dulhania Le Jayenge   \n",
       "..           ...                                            ...   \n",
       "881          7.5                   The Texas Chain Saw Massacre   \n",
       "766          7.6                             The Little Mermaid   \n",
       "174          8.2                                        Persona   \n",
       "306          8.0                             This Is Spinal Tap   \n",
       "595          7.7                       The Purple Rose of Cairo   \n",
       "738          7.6                               Army of Darkness   \n",
       "541          7.8              South Park: Bigger Longer & Uncut   \n",
       "117          8.3                                      Toy Story   \n",
       "789          7.6                                        Ice Age   \n",
       "330          8.0                                      Nosferatu   \n",
       "853          7.5                                L'illusionniste   \n",
       "297          8.0                                           Rope   \n",
       "283          8.1                                  Before Sunset   \n",
       "513          7.8                 Invasion of the Body Snatchers   \n",
       "533          7.8                                   Run Lola Run   \n",
       "622          7.7                                The Dinner Game   \n",
       "535          7.8                                          Zelig   \n",
       "489          7.8                     The Triplets of Belleville   \n",
       "864          7.5                                          [Rec]   \n",
       "713          7.6                                The Jungle Book   \n",
       "303          8.0                 The Nightmare Before Christmas   \n",
       "405          7.9                      The Bride of Frankenstein   \n",
       "938          7.4                            Alice in Wonderland   \n",
       "351          8.0                                   Frankenstein   \n",
       "742          7.6                                      Following   \n",
       "293          8.1                                      Duck Soup   \n",
       "88           8.4                                        The Kid   \n",
       "258          8.1                    The Cabinet of Dr. Caligari   \n",
       "338          8.0                            Battleship Potemkin   \n",
       "389          8.0                                         Freaks   \n",
       "\n",
       "    content_rating      genre  duration  \\\n",
       "476          PG-13      Drama       242   \n",
       "157              G      Drama       238   \n",
       "78               R      Crime       229   \n",
       "142             PG  Adventure       224   \n",
       "445       APPROVED  Adventure       220   \n",
       "85              PG  Adventure       216   \n",
       "204              G  Adventure       212   \n",
       "17         UNRATED      Drama       207   \n",
       "767       APPROVED     Action       205   \n",
       "630          PG-13  Biography       202   \n",
       "7            PG-13  Adventure       201   \n",
       "2                R      Crime       200   \n",
       "335          PG-13      Drama       197   \n",
       "385          PG-13     Action       197   \n",
       "8                R  Biography       195   \n",
       "620          PG-13      Drama       194   \n",
       "424              R  Adventure       193   \n",
       "220             PG  Biography       191   \n",
       "671              R     Action       191   \n",
       "89       NOT RATED      Drama       189   \n",
       "40               R      Crime       189   \n",
       "316              R      Drama       189   \n",
       "184              R      Drama       188   \n",
       "318              R      Drama       188   \n",
       "611              R     Comedy       187   \n",
       "132      NOT RATED      Drama       186   \n",
       "245             PG  Adventure       184   \n",
       "109      NOT RATED     Comedy       183   \n",
       "166              R      Drama       182   \n",
       "93       NOT RATED     Comedy       181   \n",
       "..             ...        ...       ...   \n",
       "881              R     Horror        83   \n",
       "766              G  Animation        83   \n",
       "174      NOT RATED      Drama        83   \n",
       "306              R     Comedy        82   \n",
       "595             PG     Comedy        82   \n",
       "738              R     Comedy        81   \n",
       "541              R  Animation        81   \n",
       "117              G  Animation        81   \n",
       "789             PG  Animation        81   \n",
       "330        UNRATED     Horror        81   \n",
       "853             PG  Animation        80   \n",
       "297             PG      Crime        80   \n",
       "283              R      Drama        80   \n",
       "513       APPROVED     Horror        80   \n",
       "533              R     Action        80   \n",
       "622          PG-13     Comedy        80   \n",
       "535             PG     Comedy        79   \n",
       "489          PG-13  Animation        78   \n",
       "864              R     Horror        78   \n",
       "713       APPROVED  Animation        78   \n",
       "303             PG  Animation        76   \n",
       "405      NOT RATED     Horror        75   \n",
       "938              G  Animation        75   \n",
       "351        UNRATED     Horror        70   \n",
       "742              R    Mystery        69   \n",
       "293         PASSED     Comedy        68   \n",
       "88       NOT RATED     Comedy        68   \n",
       "258        UNRATED      Crime        67   \n",
       "338        UNRATED    History        66   \n",
       "389        UNRATED      Drama        64   \n",
       "\n",
       "                                           actors_list  \n",
       "476  [u'Kenneth Branagh', u'Julie Christie', u'Dere...  \n",
       "157  [u'Clark Gable', u'Vivien Leigh', u'Thomas Mit...  \n",
       "78   [u'Robert De Niro', u'James Woods', u'Elizabet...  \n",
       "142  [u'Aamir Khan', u'Gracy Singh', u'Rachel Shell...  \n",
       "445  [u'Charlton Heston', u'Yul Brynner', u'Anne Ba...  \n",
       "85   [u\"Peter O'Toole\", u'Alec Guinness', u'Anthony...  \n",
       "204  [u'Charlton Heston', u'Jack Hawkins', u'Stephe...  \n",
       "17   [u'Toshir\\xf4 Mifune', u'Takashi Shimura', u'K...  \n",
       "767  [u'Spencer Tracy', u'Milton Berle', u'Ethel Me...  \n",
       "630  [u'Denzel Washington', u'Angela Bassett', u'De...  \n",
       "7    [u'Elijah Wood', u'Viggo Mortensen', u'Ian McK...  \n",
       "2    [u'Al Pacino', u'Robert De Niro', u'Robert Duv...  \n",
       "335  [u'Omar Sharif', u'Julie Christie', u'Geraldin...  \n",
       "385  [u'Kirk Douglas', u'Laurence Olivier', u'Jean ...  \n",
       "8    [u'Liam Neeson', u'Ralph Fiennes', u'Ben Kings...  \n",
       "620  [u'Leonardo DiCaprio', u'Kate Winslet', u'Bill...  \n",
       "424     [u'Sam Shepard', u'Scott Glenn', u'Ed Harris']  \n",
       "220  [u'Ben Kingsley', u'John Gielgud', u'Candice B...  \n",
       "671  [u'Kurt Russell', u'Rose McGowan', u'Danny Tre...  \n",
       "89   [u'Shah Rukh Khan', u'Gayatri Joshi', u'Kishor...  \n",
       "40   [u'Tom Hanks', u'Michael Clarke Duncan', u'Dav...  \n",
       "316  [u'Kevin Costner', u'Gary Oldman', u'Jack Lemm...  \n",
       "184  [u'Bertil Guve', u'Pernilla Allwin', u'Kristin...  \n",
       "318  [u'Tom Cruise', u'Jason Robards', u'Julianne M...  \n",
       "611  [u'Andie MacDowell', u'Julianne Moore', u'Tim ...  \n",
       "132  [u'Spencer Tracy', u'Burt Lancaster', u'Richar...  \n",
       "245  [u\"Ryan O'Neal\", u'Marisa Berenson', u'Patrick...  \n",
       "109  [u'Aamir Khan', u'Saif Ali Khan', u'Akshaye Kh...  \n",
       "166  [u'Robert De Niro', u'Christopher Walken', u'J...  \n",
       "93       [u'Shah Rukh Khan', u'Kajol', u'Amrish Puri']  \n",
       "..                                                 ...  \n",
       "881  [u'Marilyn Burns', u'Edwin Neal', u'Allen Danz...  \n",
       "766  [u'Jodi Benson', u'Samuel E. Wright', u'Rene A...  \n",
       "174  [u'Bibi Andersson', u'Liv Ullmann', u'Margaret...  \n",
       "306  [u'Rob Reiner', u'Michael McKean', u'Christoph...  \n",
       "595  [u'Mia Farrow', u'Jeff Daniels', u'Danny Aiello']  \n",
       "738  [u'Bruce Campbell', u'Embeth Davidtz', u'Marcu...  \n",
       "541  [u'Trey Parker', u'Matt Stone', u'Mary Kay Ber...  \n",
       "117       [u'Tom Hanks', u'Tim Allen', u'Don Rickles']  \n",
       "789  [u'Denis Leary', u'John Leguizamo', u'Ray Roma...  \n",
       "330  [u'Max Schreck', u'Greta Schr\\xf6der', u'Ruth ...  \n",
       "853  [u'Jean-Claude Donda', u'Eilidh Rankin', u'Dun...  \n",
       "297  [u'James Stewart', u'John Dall', u'Farley Gran...  \n",
       "283  [u'Ethan Hawke', u'Julie Delpy', u'Vernon Dobt...  \n",
       "513  [u'Kevin McCarthy', u'Dana Wynter', u'Larry Ga...  \n",
       "533  [u'Franka Potente', u'Moritz Bleibtreu', u'Her...  \n",
       "622  [u'Thierry Lhermitte', u'Jacques Villeret', u'...  \n",
       "535  [u'Woody Allen', u'Mia Farrow', u'Patrick Horg...  \n",
       "489  [u'Mich\\xe8le Caucheteux', u'Jean-Claude Donda...  \n",
       "864  [u'Manuela Velasco', u'Ferran Terraza', u'Jorg...  \n",
       "713  [u'Phil Harris', u'Sebastian Cabot', u'Louis P...  \n",
       "303  [u'Danny Elfman', u'Chris Sarandon', u\"Catheri...  \n",
       "405  [u'Boris Karloff', u'Elsa Lanchester', u'Colin...  \n",
       "938  [u'Kathryn Beaumont', u'Ed Wynn', u'Richard Ha...  \n",
       "351  [u'Colin Clive', u'Mae Clarke', u'Boris Karloff']  \n",
       "742  [u'Jeremy Theobald', u'Alex Haw', u'Lucy Russe...  \n",
       "293    [u'Groucho Marx', u'Harpo Marx', u'Chico Marx']  \n",
       "88   [u'Charles Chaplin', u'Edna Purviance', u'Jack...  \n",
       "258  [u'Werner Krauss', u'Conrad Veidt', u'Friedric...  \n",
       "338  [u'Aleksandr Antonov', u'Vladimir Barsky', u'G...  \n",
       "389  [u'Wallace Ford', u'Leila Hyams', u'Olga Bacla...  \n",
       "\n",
       "[979 rows x 6 columns]"
      ]
     },
     "execution_count": 8,
     "metadata": {},
     "output_type": "execute_result"
    }
   ],
   "source": [
    "# Answer:\n",
    "movies.sort_values('duration', ascending = False)"
   ]
  },
  {
   "cell_type": "markdown",
   "metadata": {},
   "source": [
    "#### Create a histogram of duration, choosing an \"appropriate\" number of bins."
   ]
  },
  {
   "cell_type": "code",
   "execution_count": 9,
   "metadata": {},
   "outputs": [
    {
     "data": {
      "image/png": "[encoded data removed]",
      "text/plain": [
       "<matplotlib.figure.Figure at 0x24221810588>"
      ]
     },
     "metadata": {},
     "output_type": "display_data"
    }
   ],
   "source": [
    "# Answer:\n",
    "fig, ax = plt.subplots()\n",
    "movies.hist('duration', ax=ax, bins = 20);"
   ]
  },
  {
   "cell_type": "markdown",
   "metadata": {},
   "source": [
    "#### Use a box plot to display that same data."
   ]
  },
  {
   "cell_type": "code",
   "execution_count": 10,
   "metadata": {},
   "outputs": [
    {
     "data": {
      "image/png": "[encoded data removed]",
      "text/plain": [
       "<matplotlib.figure.Figure at 0x24221867ba8>"
      ]
     },
     "metadata": {},
     "output_type": "display_data"
    }
   ],
   "source": [
    "# Answer:\n",
    "fig, ax = plt.subplots()\n",
    "movies.loc[:, 'duration'].plot(kind='box', ax=ax);"
   ]
  },
  {
   "cell_type": "markdown",
   "metadata": {},
   "source": [
    "## Intermediate level"
   ]
  },
  {
   "cell_type": "markdown",
   "metadata": {},
   "source": [
    "#### Count how many movies have each of the content ratings."
   ]
  },
  {
   "cell_type": "code",
   "execution_count": 11,
   "metadata": {},
   "outputs": [
    {
     "data": {
      "text/plain": [
       "R            460\n",
       "PG-13        189\n",
       "PG           123\n",
       "NOT RATED     65\n",
       "APPROVED      47\n",
       "UNRATED       38\n",
       "G             32\n",
       "PASSED         7\n",
       "NC-17          7\n",
       "X              4\n",
       "GP             3\n",
       "TV-MA          1\n",
       "Name: content_rating, dtype: int64"
      ]
     },
     "execution_count": 11,
     "metadata": {},
     "output_type": "execute_result"
    }
   ],
   "source": [
    "# Answer:\n",
    "movies.loc[:, 'content_rating'].value_counts()"
   ]
  },
  {
   "cell_type": "markdown",
   "metadata": {},
   "source": [
    "#### Use a visualization to display that same data, including a title and x and y labels."
   ]
  },
  {
   "cell_type": "code",
   "execution_count": 35,
   "metadata": {},
   "outputs": [
    {
     "data": {
      "image/png": "[encoded data removed]",
      "text/plain": [
       "<matplotlib.figure.Figure at 0x24222996438>"
      ]
     },
     "metadata": {},
     "output_type": "display_data"
    }
   ],
   "source": [
    "# Answer:\n",
    "fig, ax = plt.subplots()\n",
    "movies.loc[:, 'content_rating'].value_counts().plot(kind='bar', ax=ax)\n",
    "ax.set_xlabel('Content Rating')\n",
    "ax.set_ylabel('Number of Movies')\n",
    "ax.set_title('Number of Movies per Content Rating');"
   ]
  },
  {
   "cell_type": "markdown",
   "metadata": {},
   "source": [
    "#### Convert the following content ratings to \"UNRATED\": NOT RATED, APPROVED, PASSED, GP."
   ]
  },
  {
   "cell_type": "code",
   "execution_count": 36,
   "metadata": {},
   "outputs": [
    {
     "data": {
      "text/plain": [
       "R          460\n",
       "PG-13      189\n",
       "UNRATED    160\n",
       "PG         123\n",
       "G           32\n",
       "NC-17        7\n",
       "X            4\n",
       "TV-MA        1\n",
       "Name: content_rating, dtype: int64"
      ]
     },
     "execution_count": 36,
     "metadata": {},
     "output_type": "execute_result"
    }
   ],
   "source": [
    "# Answer:\n",
    "unrated_movies = movies.loc[:, 'content_rating'].isin(['NOT RATED', 'APPROVED', 'PASSED', 'GP'])\n",
    "ratingschangedf = movies.replace(['NOT RATED', 'APPROVED', 'PASSED', 'GP'], 'UNRATED')\n",
    "ratingschangedf.loc[:,'content_rating'].value_counts()"
   ]
  },
  {
   "cell_type": "markdown",
   "metadata": {},
   "source": [
    "#### Convert the following content ratings to \"NC-17\": X, TV-MA."
   ]
  },
  {
   "cell_type": "code",
   "execution_count": 14,
   "metadata": {},
   "outputs": [
    {
     "data": {
      "text/plain": [
       "R          460\n",
       "PG-13      189\n",
       "UNRATED    160\n",
       "PG         123\n",
       "G           32\n",
       "NC-17       12\n",
       "Name: content_rating, dtype: int64"
      ]
     },
     "execution_count": 14,
     "metadata": {},
     "output_type": "execute_result"
    }
   ],
   "source": [
    "# Answer:\n",
    "ratingschangedf.replace(['X', 'TV-MA'], 'NC-17', inplace=True)\n",
    "ratingschangedf.loc[:,'content_rating'].value_counts()"
   ]
  },
  {
   "cell_type": "markdown",
   "metadata": {},
   "source": [
    "#### Count the number of missing values in each column."
   ]
  },
  {
   "cell_type": "code",
   "execution_count": 15,
   "metadata": {},
   "outputs": [
    {
     "data": {
      "text/plain": [
       "star_rating       0\n",
       "title             0\n",
       "content_rating    3\n",
       "genre             0\n",
       "duration          0\n",
       "actors_list       0\n",
       "dtype: int64"
      ]
     },
     "execution_count": 15,
     "metadata": {},
     "output_type": "execute_result"
    }
   ],
   "source": [
    "# Answer:\n",
    "ratingschangedf.isnull().sum()"
   ]
  },
  {
   "cell_type": "markdown",
   "metadata": {},
   "source": [
    "#### If there are missing values: examine them, then fill them in with \"reasonable\" values."
   ]
  },
  {
   "cell_type": "code",
   "execution_count": 45,
   "metadata": {},
   "outputs": [
    {
     "data": {
      "text/html": [
       "<div>\n",
       "<style scoped>\n",
       "    .dataframe tbody tr th:only-of-type {\n",
       "        vertical-align: middle;\n",
       "    }\n",
       "\n",
       "    .dataframe tbody tr th {\n",
       "        vertical-align: top;\n",
       "    }\n",
       "\n",
       "    .dataframe thead th {\n",
       "        text-align: right;\n",
       "    }\n",
       "</style>\n",
       "<table border=\"1\" class=\"dataframe\">\n",
       "  <thead>\n",
       "    <tr style=\"text-align: right;\">\n",
       "      <th></th>\n",
       "      <th>star_rating</th>\n",
       "      <th>title</th>\n",
       "      <th>content_rating</th>\n",
       "      <th>genre</th>\n",
       "      <th>duration</th>\n",
       "      <th>actors_list</th>\n",
       "    </tr>\n",
       "  </thead>\n",
       "  <tbody>\n",
       "  </tbody>\n",
       "</table>\n",
       "</div>"
      ],
      "text/plain": [
       "Empty DataFrame\n",
       "Columns: [star_rating, title, content_rating, genre, duration, actors_list]\n",
       "Index: []"
      ]
     },
     "execution_count": 45,
     "metadata": {},
     "output_type": "execute_result"
    }
   ],
   "source": [
    "# Answer:\n",
    "#Look at rows where content_rating is null (there are only 3):\n",
    "ratingschangedf.loc[ratingschangedf.loc[:,'content_rating'].isnull(), :]\n",
    "#genres are  biography, action, & adventure"
   ]
  },
  {
   "cell_type": "code",
   "execution_count": 46,
   "metadata": {
    "scrolled": true
   },
   "outputs": [],
   "source": [
    "#Check what content ratings are most common for each genre and replace NaN values accordingly\n",
    "ratingschangedf.groupby(['genre', 'content_rating']).count()\n",
    "# Action: 'R' is most common\n",
    "# Adventure: 'PG-13' is most common \n",
    "# Biography: 'R' is most common\n",
    "\n",
    "ratingschangedf.loc[ratingschangedf.loc[:, 'title'] == 'Butch Cassidy and the Sundance Kid', 'content_rating'] = 'R'\n",
    "ratingschangedf.loc[ratingschangedf.loc[:, 'title'] == 'Where Eagles Dare', 'content_rating'] = 'R'\n",
    "ratingschangedf.loc[(ratingschangedf.loc[:, 'title'] == 'True Grit') & (ratingschangedf.loc[:, 'duration'] == 128), 'content_rating'] = 'PG-13'\n",
    "\n"
   ]
  },
  {
   "cell_type": "markdown",
   "metadata": {},
   "source": [
    "NOTE: 'True Grit' is in this table twice (original + remake), as found a few entries below this.  The other 'True Grit' entry is also rated 'PG-13', so the rating replacement checks out.  I added the extra boolean logic to the True Grit replacement to ensure it only replaces this entry, not both!\n",
    "\n",
    "Additionally - python gave an indexing error when I tried to use the .replace() method here, because the ratingschangedf dataframe is already a copy of the original dataframe.  The reassignment method above works."
   ]
  },
  {
   "cell_type": "markdown",
   "metadata": {},
   "source": [
    "#### Calculate the average star rating for movies 2 hours or longer, and compare that with the average star rating for movies shorter than 2 hours."
   ]
  },
  {
   "cell_type": "code",
   "execution_count": 18,
   "metadata": {},
   "outputs": [
    {
     "name": "stdout",
     "output_type": "stream",
     "text": [
      "Average rating for 2+ hour movies: 7.949\n",
      "Average rating for <2 hour movies: 7.839\n",
      "2+ hour movies are typically rated higher than those under 2 hours.\n"
     ]
    }
   ],
   "source": [
    "# Answer:\n",
    "avg_rating_2plus_hours = round(movies.loc[movies.loc[:, 'duration'] >=120, 'star_rating'].mean(), 3)\n",
    "avg_rating_under2hours = round(movies.loc[movies.loc[:, 'duration'] <120, 'star_rating'].mean(), 3)\n",
    "print(\"Average rating for 2+ hour movies:\", avg_rating_2plus_hours)\n",
    "print(\"Average rating for <2 hour movies:\", avg_rating_under2hours)\n",
    "if avg_rating_2plus_hours > avg_rating_under2hours:\n",
    "    print(\"2+ hour movies are typically rated higher than those under 2 hours.\")\n",
    "else:\n",
    "    print(\"Movies with durations under 2 hours are typically rated higher than those over 2 hours.\")"
   ]
  },
  {
   "cell_type": "markdown",
   "metadata": {},
   "source": [
    "#### Use a visualization to detect whether there is a relationship between duration and star rating."
   ]
  },
  {
   "cell_type": "code",
   "execution_count": 51,
   "metadata": {},
   "outputs": [
    {
     "data": {
      "image/png": "[encoded data removed]",
      "text/plain": [
       "<matplotlib.figure.Figure at 0x24221c21080>"
      ]
     },
     "metadata": {},
     "output_type": "display_data"
    }
   ],
   "source": [
    "# Answer:\n",
    "fig, ax = plt.subplots()\n",
    "movies.plot(kind='scatter', x='duration', y= 'star_rating', ax=ax);"
   ]
  },
  {
   "cell_type": "markdown",
   "metadata": {},
   "source": [
    "There appears to be some positive correlation between star rating & duration, but not all that strong, especially if we just look at that clump in the middle.  Confirmed via running movies.corr() below, which shows a correlation of .23 -- positive correlation, but not extreme."
   ]
  },
  {
   "cell_type": "code",
   "execution_count": 20,
   "metadata": {},
   "outputs": [
    {
     "data": {
      "text/html": [
       "<div>\n",
       "<style scoped>\n",
       "    .dataframe tbody tr th:only-of-type {\n",
       "        vertical-align: middle;\n",
       "    }\n",
       "\n",
       "    .dataframe tbody tr th {\n",
       "        vertical-align: top;\n",
       "    }\n",
       "\n",
       "    .dataframe thead th {\n",
       "        text-align: right;\n",
       "    }\n",
       "</style>\n",
       "<table border=\"1\" class=\"dataframe\">\n",
       "  <thead>\n",
       "    <tr style=\"text-align: right;\">\n",
       "      <th></th>\n",
       "      <th>star_rating</th>\n",
       "      <th>duration</th>\n",
       "    </tr>\n",
       "  </thead>\n",
       "  <tbody>\n",
       "    <tr>\n",
       "      <th>star_rating</th>\n",
       "      <td>1.000000</td>\n",
       "      <td>0.227149</td>\n",
       "    </tr>\n",
       "    <tr>\n",
       "      <th>duration</th>\n",
       "      <td>0.227149</td>\n",
       "      <td>1.000000</td>\n",
       "    </tr>\n",
       "  </tbody>\n",
       "</table>\n",
       "</div>"
      ],
      "text/plain": [
       "             star_rating  duration\n",
       "star_rating     1.000000  0.227149\n",
       "duration        0.227149  1.000000"
      ]
     },
     "execution_count": 20,
     "metadata": {},
     "output_type": "execute_result"
    }
   ],
   "source": [
    "movies.corr()"
   ]
  },
  {
   "cell_type": "markdown",
   "metadata": {},
   "source": [
    "#### Calculate the average duration for each genre."
   ]
  },
  {
   "cell_type": "code",
   "execution_count": 21,
   "metadata": {},
   "outputs": [
    {
     "data": {
      "text/html": [
       "<div>\n",
       "<style scoped>\n",
       "    .dataframe tbody tr th:only-of-type {\n",
       "        vertical-align: middle;\n",
       "    }\n",
       "\n",
       "    .dataframe tbody tr th {\n",
       "        vertical-align: top;\n",
       "    }\n",
       "\n",
       "    .dataframe thead th {\n",
       "        text-align: right;\n",
       "    }\n",
       "</style>\n",
       "<table border=\"1\" class=\"dataframe\">\n",
       "  <thead>\n",
       "    <tr style=\"text-align: right;\">\n",
       "      <th></th>\n",
       "      <th>duration</th>\n",
       "    </tr>\n",
       "    <tr>\n",
       "      <th>genre</th>\n",
       "      <th></th>\n",
       "    </tr>\n",
       "  </thead>\n",
       "  <tbody>\n",
       "    <tr>\n",
       "      <th>Action</th>\n",
       "      <td>126.485294</td>\n",
       "    </tr>\n",
       "    <tr>\n",
       "      <th>Adventure</th>\n",
       "      <td>134.840000</td>\n",
       "    </tr>\n",
       "    <tr>\n",
       "      <th>Animation</th>\n",
       "      <td>96.596774</td>\n",
       "    </tr>\n",
       "    <tr>\n",
       "      <th>Biography</th>\n",
       "      <td>131.844156</td>\n",
       "    </tr>\n",
       "    <tr>\n",
       "      <th>Comedy</th>\n",
       "      <td>107.602564</td>\n",
       "    </tr>\n",
       "    <tr>\n",
       "      <th>Crime</th>\n",
       "      <td>122.298387</td>\n",
       "    </tr>\n",
       "    <tr>\n",
       "      <th>Drama</th>\n",
       "      <td>126.539568</td>\n",
       "    </tr>\n",
       "    <tr>\n",
       "      <th>Family</th>\n",
       "      <td>107.500000</td>\n",
       "    </tr>\n",
       "    <tr>\n",
       "      <th>Fantasy</th>\n",
       "      <td>112.000000</td>\n",
       "    </tr>\n",
       "    <tr>\n",
       "      <th>Film-Noir</th>\n",
       "      <td>97.333333</td>\n",
       "    </tr>\n",
       "    <tr>\n",
       "      <th>History</th>\n",
       "      <td>66.000000</td>\n",
       "    </tr>\n",
       "    <tr>\n",
       "      <th>Horror</th>\n",
       "      <td>102.517241</td>\n",
       "    </tr>\n",
       "    <tr>\n",
       "      <th>Mystery</th>\n",
       "      <td>115.625000</td>\n",
       "    </tr>\n",
       "    <tr>\n",
       "      <th>Sci-Fi</th>\n",
       "      <td>109.000000</td>\n",
       "    </tr>\n",
       "    <tr>\n",
       "      <th>Thriller</th>\n",
       "      <td>114.200000</td>\n",
       "    </tr>\n",
       "    <tr>\n",
       "      <th>Western</th>\n",
       "      <td>136.666667</td>\n",
       "    </tr>\n",
       "  </tbody>\n",
       "</table>\n",
       "</div>"
      ],
      "text/plain": [
       "             duration\n",
       "genre                \n",
       "Action     126.485294\n",
       "Adventure  134.840000\n",
       "Animation   96.596774\n",
       "Biography  131.844156\n",
       "Comedy     107.602564\n",
       "Crime      122.298387\n",
       "Drama      126.539568\n",
       "Family     107.500000\n",
       "Fantasy    112.000000\n",
       "Film-Noir   97.333333\n",
       "History     66.000000\n",
       "Horror     102.517241\n",
       "Mystery    115.625000\n",
       "Sci-Fi     109.000000\n",
       "Thriller   114.200000\n",
       "Western    136.666667"
      ]
     },
     "execution_count": 21,
     "metadata": {},
     "output_type": "execute_result"
    }
   ],
   "source": [
    "# Answer:\n",
    "movies.loc[:, ['genre', 'duration']].groupby('genre').mean()\n",
    "# or...(prints out both star rating & duration): \n",
    "#movies.groupby('genre').mean()"
   ]
  },
  {
   "cell_type": "markdown",
   "metadata": {},
   "source": [
    "## Advanced level"
   ]
  },
  {
   "cell_type": "markdown",
   "metadata": {},
   "source": [
    "#### Visualize the relationship between content rating and duration."
   ]
  },
  {
   "cell_type": "code",
   "execution_count": 22,
   "metadata": {},
   "outputs": [
    {
     "data": {
      "image/png": "[encoded data removed]",
      "text/plain": [
       "<matplotlib.figure.Figure at 0x24222897898>"
      ]
     },
     "metadata": {},
     "output_type": "display_data"
    }
   ],
   "source": [
    "# Answer:\n",
    "import seaborn as sns\n",
    "fig, ax = plt.subplots(figsize = (20,12))\n",
    "boxplotdata = ratingschangedf.loc[:, ['content_rating', 'duration']]\n",
    "sns.boxplot(x='content_rating', y = 'duration', data = boxplotdata, order = ['UNRATED', 'G', 'PG', 'PG-13', 'R', 'NC-17']);"
   ]
  },
  {
   "cell_type": "markdown",
   "metadata": {},
   "source": [
    "Methodology: \n",
    "- Plot boxplots of duration by each content rating, in order to view median & spread of each\n",
    "- Used Seaborn to visualize, which allowed me to reorder the columns by rating easily for easier analysis\n",
    "\n",
    "As we go from G -> NC-17 (excluding unrated movies), median duration tends to increase, peaking at PG-13, though NC-17 gets shorter.  Unrated movies have a larger range of durations than any rated category (once we remove outliers); NC-17 is the only category without outliers, though also has the lowest count of any rating."
   ]
  },
  {
   "cell_type": "markdown",
   "metadata": {},
   "source": [
    "#### Determine the top rated movie (by star rating) for each genre."
   ]
  },
  {
   "cell_type": "code",
   "execution_count": 24,
   "metadata": {},
   "outputs": [
    {
     "data": {
      "text/plain": [
       "{'Action': ['The Dark Knight', 9.0],\n",
       " 'Adventure': ['The Lord of the Rings: The Return of the King', 8.9],\n",
       " 'Animation': ['Spirited Away', 8.6],\n",
       " 'Biography': [\"Schindler's List\", 8.9],\n",
       " 'Comedy': ['Life Is Beautiful', 8.6],\n",
       " 'Crime': ['The Shawshank Redemption', 9.3],\n",
       " 'Drama': ['12 Angry Men', 8.9],\n",
       " 'Family': ['E.T. the Extra-Terrestrial', 7.9],\n",
       " 'Fantasy': ['The City of Lost Children', 7.7],\n",
       " 'Film-Noir': ['The Third Man', 8.3],\n",
       " 'History': ['Battleship Potemkin', 8.0],\n",
       " 'Horror': ['Psycho', 8.6],\n",
       " 'Mystery': ['Rear Window', 8.6],\n",
       " 'Sci-Fi': ['Blade Runner', 8.2],\n",
       " 'Thriller': ['Shadow of a Doubt', 8.0],\n",
       " 'Western': ['The Good, the Bad and the Ugly', 8.9]}"
      ]
     },
     "execution_count": 24,
     "metadata": {},
     "output_type": "execute_result"
    }
   ],
   "source": [
    "# Answer:\n",
    "genres = list(ratingschangedf.loc[:,'genre'].unique())\n",
    "top_rated_per_genre = {}\n",
    "\n",
    "for value in genres:\n",
    "    tempdf = ratingschangedf.loc[ratingschangedf.loc[:, 'genre'] == value, :]\n",
    "    highest_rated_title = list(tempdf.nlargest(1, 'star_rating')['title'])\n",
    "    highest_rated_stars = list(tempdf.nlargest(1,'star_rating')['star_rating'])\n",
    "    top_rated_per_genre[value] = highest_rated_title + highest_rated_stars \n",
    "    \n",
    "#Note, converted to list objects as a way to not have printout include the 'dtype=object' part\n",
    "    \n",
    "top_rated_per_genre"
   ]
  },
  {
   "cell_type": "markdown",
   "metadata": {},
   "source": [
    "#### Check if there are multiple movies with the same title, and if so, determine if they are actually duplicates."
   ]
  },
  {
   "cell_type": "code",
   "execution_count": 52,
   "metadata": {},
   "outputs": [
    {
     "data": {
      "text/html": [
       "<div>\n",
       "<style scoped>\n",
       "    .dataframe tbody tr th:only-of-type {\n",
       "        vertical-align: middle;\n",
       "    }\n",
       "\n",
       "    .dataframe tbody tr th {\n",
       "        vertical-align: top;\n",
       "    }\n",
       "\n",
       "    .dataframe thead th {\n",
       "        text-align: right;\n",
       "    }\n",
       "</style>\n",
       "<table border=\"1\" class=\"dataframe\">\n",
       "  <thead>\n",
       "    <tr style=\"text-align: right;\">\n",
       "      <th></th>\n",
       "      <th>star_rating</th>\n",
       "      <th>title</th>\n",
       "      <th>content_rating</th>\n",
       "      <th>genre</th>\n",
       "      <th>duration</th>\n",
       "      <th>actors_list</th>\n",
       "    </tr>\n",
       "  </thead>\n",
       "  <tbody>\n",
       "    <tr>\n",
       "      <th>703</th>\n",
       "      <td>7.6</td>\n",
       "      <td>Dracula</td>\n",
       "      <td>UNRATED</td>\n",
       "      <td>Horror</td>\n",
       "      <td>85</td>\n",
       "      <td>[u'Bela Lugosi', u'Helen Chandler', u'David Ma...</td>\n",
       "    </tr>\n",
       "    <tr>\n",
       "      <th>905</th>\n",
       "      <td>7.5</td>\n",
       "      <td>Dracula</td>\n",
       "      <td>R</td>\n",
       "      <td>Horror</td>\n",
       "      <td>128</td>\n",
       "      <td>[u'Gary Oldman', u'Winona Ryder', u'Anthony Ho...</td>\n",
       "    </tr>\n",
       "    <tr>\n",
       "      <th>678</th>\n",
       "      <td>7.7</td>\n",
       "      <td>Les Miserables</td>\n",
       "      <td>PG-13</td>\n",
       "      <td>Drama</td>\n",
       "      <td>158</td>\n",
       "      <td>[u'Hugh Jackman', u'Russell Crowe', u'Anne Hat...</td>\n",
       "    </tr>\n",
       "    <tr>\n",
       "      <th>924</th>\n",
       "      <td>7.5</td>\n",
       "      <td>Les Miserables</td>\n",
       "      <td>PG-13</td>\n",
       "      <td>Crime</td>\n",
       "      <td>134</td>\n",
       "      <td>[u'Liam Neeson', u'Geoffrey Rush', u'Uma Thurm...</td>\n",
       "    </tr>\n",
       "    <tr>\n",
       "      <th>466</th>\n",
       "      <td>7.9</td>\n",
       "      <td>The Girl with the Dragon Tattoo</td>\n",
       "      <td>R</td>\n",
       "      <td>Crime</td>\n",
       "      <td>158</td>\n",
       "      <td>[u'Daniel Craig', u'Rooney Mara', u'Christophe...</td>\n",
       "    </tr>\n",
       "    <tr>\n",
       "      <th>482</th>\n",
       "      <td>7.8</td>\n",
       "      <td>The Girl with the Dragon Tattoo</td>\n",
       "      <td>R</td>\n",
       "      <td>Crime</td>\n",
       "      <td>152</td>\n",
       "      <td>[u'Michael Nyqvist', u'Noomi Rapace', u'Ewa Fr...</td>\n",
       "    </tr>\n",
       "    <tr>\n",
       "      <th>662</th>\n",
       "      <td>7.7</td>\n",
       "      <td>True Grit</td>\n",
       "      <td>PG-13</td>\n",
       "      <td>Adventure</td>\n",
       "      <td>110</td>\n",
       "      <td>[u'Jeff Bridges', u'Matt Damon', u'Hailee Stei...</td>\n",
       "    </tr>\n",
       "    <tr>\n",
       "      <th>936</th>\n",
       "      <td>7.4</td>\n",
       "      <td>True Grit</td>\n",
       "      <td>PG-13</td>\n",
       "      <td>Adventure</td>\n",
       "      <td>128</td>\n",
       "      <td>[u'John Wayne', u'Kim Darby', u'Glen Campbell']</td>\n",
       "    </tr>\n",
       "  </tbody>\n",
       "</table>\n",
       "</div>"
      ],
      "text/plain": [
       "     star_rating                            title content_rating      genre  \\\n",
       "703          7.6                          Dracula        UNRATED     Horror   \n",
       "905          7.5                          Dracula              R     Horror   \n",
       "678          7.7                   Les Miserables          PG-13      Drama   \n",
       "924          7.5                   Les Miserables          PG-13      Crime   \n",
       "466          7.9  The Girl with the Dragon Tattoo              R      Crime   \n",
       "482          7.8  The Girl with the Dragon Tattoo              R      Crime   \n",
       "662          7.7                        True Grit          PG-13  Adventure   \n",
       "936          7.4                        True Grit          PG-13  Adventure   \n",
       "\n",
       "     duration                                        actors_list  \n",
       "703        85  [u'Bela Lugosi', u'Helen Chandler', u'David Ma...  \n",
       "905       128  [u'Gary Oldman', u'Winona Ryder', u'Anthony Ho...  \n",
       "678       158  [u'Hugh Jackman', u'Russell Crowe', u'Anne Hat...  \n",
       "924       134  [u'Liam Neeson', u'Geoffrey Rush', u'Uma Thurm...  \n",
       "466       158  [u'Daniel Craig', u'Rooney Mara', u'Christophe...  \n",
       "482       152  [u'Michael Nyqvist', u'Noomi Rapace', u'Ewa Fr...  \n",
       "662       110  [u'Jeff Bridges', u'Matt Damon', u'Hailee Stei...  \n",
       "936       128    [u'John Wayne', u'Kim Darby', u'Glen Campbell']  "
      ]
     },
     "execution_count": 52,
     "metadata": {},
     "output_type": "execute_result"
    }
   ],
   "source": [
    "# Answer:\n",
    "# Get count of each title; if count > 1, it's a duplicate - print out to determine if they're exactly the same.\n",
    "\n",
    "title_counts = ratingschangedf.groupby('title').count().sort_values(by='star_rating', ascending = False)\n",
    "duplicate_titles = list(title_counts.loc[title_counts.loc[:, 'star_rating'] > 1, :].index)\n",
    "duplicate_title_rows = ratingschangedf.loc[ratingschangedf.loc[:, 'title'].isin(duplicate_titles), :].sort_values(by='title')\n",
    "duplicate_title_rows"
   ]
  },
  {
   "cell_type": "markdown",
   "metadata": {},
   "source": [
    "A: all duplicates have different sets of actors & different lengths, which leads me to believe these are different versions/remakes rather than actual duplicates."
   ]
  },
  {
   "cell_type": "markdown",
   "metadata": {
    "collapsed": true
   },
   "source": [
    "#### Calculate the average star rating for each genre, but only include genres with at least 10 movies\n"
   ]
  },
  {
   "cell_type": "markdown",
   "metadata": {},
   "source": [
    "#### Option 1: manually create a list of relevant genres, then filter using that list"
   ]
  },
  {
   "cell_type": "code",
   "execution_count": 54,
   "metadata": {},
   "outputs": [
    {
     "data": {
      "text/html": [
       "<div>\n",
       "<style scoped>\n",
       "    .dataframe tbody tr th:only-of-type {\n",
       "        vertical-align: middle;\n",
       "    }\n",
       "\n",
       "    .dataframe tbody tr th {\n",
       "        vertical-align: top;\n",
       "    }\n",
       "\n",
       "    .dataframe thead th {\n",
       "        text-align: right;\n",
       "    }\n",
       "</style>\n",
       "<table border=\"1\" class=\"dataframe\">\n",
       "  <thead>\n",
       "    <tr style=\"text-align: right;\">\n",
       "      <th></th>\n",
       "      <th>star_rating</th>\n",
       "    </tr>\n",
       "    <tr>\n",
       "      <th>genre</th>\n",
       "      <th></th>\n",
       "    </tr>\n",
       "  </thead>\n",
       "  <tbody>\n",
       "    <tr>\n",
       "      <th>Action</th>\n",
       "      <td>7.884559</td>\n",
       "    </tr>\n",
       "    <tr>\n",
       "      <th>Adventure</th>\n",
       "      <td>7.933333</td>\n",
       "    </tr>\n",
       "    <tr>\n",
       "      <th>Animation</th>\n",
       "      <td>7.914516</td>\n",
       "    </tr>\n",
       "    <tr>\n",
       "      <th>Biography</th>\n",
       "      <td>7.862338</td>\n",
       "    </tr>\n",
       "    <tr>\n",
       "      <th>Comedy</th>\n",
       "      <td>7.822436</td>\n",
       "    </tr>\n",
       "    <tr>\n",
       "      <th>Crime</th>\n",
       "      <td>7.916935</td>\n",
       "    </tr>\n",
       "    <tr>\n",
       "      <th>Drama</th>\n",
       "      <td>7.902518</td>\n",
       "    </tr>\n",
       "    <tr>\n",
       "      <th>Horror</th>\n",
       "      <td>7.806897</td>\n",
       "    </tr>\n",
       "    <tr>\n",
       "      <th>Mystery</th>\n",
       "      <td>7.975000</td>\n",
       "    </tr>\n",
       "  </tbody>\n",
       "</table>\n",
       "</div>"
      ],
      "text/plain": [
       "           star_rating\n",
       "genre                 \n",
       "Action        7.884559\n",
       "Adventure     7.933333\n",
       "Animation     7.914516\n",
       "Biography     7.862338\n",
       "Comedy        7.822436\n",
       "Crime         7.916935\n",
       "Drama         7.902518\n",
       "Horror        7.806897\n",
       "Mystery       7.975000"
      ]
     },
     "execution_count": 54,
     "metadata": {},
     "output_type": "execute_result"
    }
   ],
   "source": [
    "# Answer:\n",
    "ratingschangedf.groupby('genre').count() #view list of genres and their counts, then manually add each one with count>9 to a list\n",
    "\n",
    "genres_highvolume = ['Action', 'Adventure', 'Animation', 'Biography', 'Comedy', 'Crime', 'Drama', 'Horror', 'Mystery']\n",
    "\n",
    "ratingschangedf.loc[ratingschangedf.loc[:, 'genre'].isin(genres_highvolume), ['genre', 'star_rating']].groupby('genre').mean()"
   ]
  },
  {
   "cell_type": "markdown",
   "metadata": {},
   "source": [
    "#### Option 2: automatically create a list of relevant genres by saving the value_counts and then filtering"
   ]
  },
  {
   "cell_type": "code",
   "execution_count": 99,
   "metadata": {
    "collapsed": true
   },
   "outputs": [
    {
     "data": {
      "text/html": [
       "<div>\n",
       "<style scoped>\n",
       "    .dataframe tbody tr th:only-of-type {\n",
       "        vertical-align: middle;\n",
       "    }\n",
       "\n",
       "    .dataframe tbody tr th {\n",
       "        vertical-align: top;\n",
       "    }\n",
       "\n",
       "    .dataframe thead th {\n",
       "        text-align: right;\n",
       "    }\n",
       "</style>\n",
       "<table border=\"1\" class=\"dataframe\">\n",
       "  <thead>\n",
       "    <tr style=\"text-align: right;\">\n",
       "      <th></th>\n",
       "      <th>star_rating</th>\n",
       "    </tr>\n",
       "    <tr>\n",
       "      <th>genre</th>\n",
       "      <th></th>\n",
       "    </tr>\n",
       "  </thead>\n",
       "  <tbody>\n",
       "    <tr>\n",
       "      <th>Action</th>\n",
       "      <td>7.884559</td>\n",
       "    </tr>\n",
       "    <tr>\n",
       "      <th>Adventure</th>\n",
       "      <td>7.933333</td>\n",
       "    </tr>\n",
       "    <tr>\n",
       "      <th>Animation</th>\n",
       "      <td>7.914516</td>\n",
       "    </tr>\n",
       "    <tr>\n",
       "      <th>Biography</th>\n",
       "      <td>7.862338</td>\n",
       "    </tr>\n",
       "    <tr>\n",
       "      <th>Comedy</th>\n",
       "      <td>7.822436</td>\n",
       "    </tr>\n",
       "    <tr>\n",
       "      <th>Crime</th>\n",
       "      <td>7.916935</td>\n",
       "    </tr>\n",
       "    <tr>\n",
       "      <th>Drama</th>\n",
       "      <td>7.902518</td>\n",
       "    </tr>\n",
       "    <tr>\n",
       "      <th>Horror</th>\n",
       "      <td>7.806897</td>\n",
       "    </tr>\n",
       "    <tr>\n",
       "      <th>Mystery</th>\n",
       "      <td>7.975000</td>\n",
       "    </tr>\n",
       "  </tbody>\n",
       "</table>\n",
       "</div>"
      ],
      "text/plain": [
       "           star_rating\n",
       "genre                 \n",
       "Action        7.884559\n",
       "Adventure     7.933333\n",
       "Animation     7.914516\n",
       "Biography     7.862338\n",
       "Comedy        7.822436\n",
       "Crime         7.916935\n",
       "Drama         7.902518\n",
       "Horror        7.806897\n",
       "Mystery       7.975000"
      ]
     },
     "execution_count": 99,
     "metadata": {},
     "output_type": "execute_result"
    }
   ],
   "source": [
    "# Answer:\n",
    "genre_value_counts = ratingschangedf.loc[:, 'genre'].value_counts()\n",
    "genre_value_counts = genre_value_counts[genre_value_counts > 9]\n",
    "ratingschangedf.loc[ratingschangedf.loc[:, 'genre'].isin(genre_value_counts.index), ['genre', 'star_rating']].groupby('genre').mean()"
   ]
  },
  {
   "cell_type": "code",
   "execution_count": 119,
   "metadata": {},
   "outputs": [
    {
     "data": {
      "text/html": [
       "<div>\n",
       "<style scoped>\n",
       "    .dataframe tbody tr th:only-of-type {\n",
       "        vertical-align: middle;\n",
       "    }\n",
       "\n",
       "    .dataframe tbody tr th {\n",
       "        vertical-align: top;\n",
       "    }\n",
       "\n",
       "    .dataframe thead th {\n",
       "        text-align: right;\n",
       "    }\n",
       "</style>\n",
       "<table border=\"1\" class=\"dataframe\">\n",
       "  <thead>\n",
       "    <tr style=\"text-align: right;\">\n",
       "      <th></th>\n",
       "      <th>star_rating</th>\n",
       "    </tr>\n",
       "    <tr>\n",
       "      <th>genre</th>\n",
       "      <th></th>\n",
       "    </tr>\n",
       "  </thead>\n",
       "  <tbody>\n",
       "    <tr>\n",
       "      <th>Action</th>\n",
       "      <td>7.884559</td>\n",
       "    </tr>\n",
       "    <tr>\n",
       "      <th>Adventure</th>\n",
       "      <td>7.933333</td>\n",
       "    </tr>\n",
       "    <tr>\n",
       "      <th>Animation</th>\n",
       "      <td>7.914516</td>\n",
       "    </tr>\n",
       "    <tr>\n",
       "      <th>Biography</th>\n",
       "      <td>7.862338</td>\n",
       "    </tr>\n",
       "    <tr>\n",
       "      <th>Comedy</th>\n",
       "      <td>7.822436</td>\n",
       "    </tr>\n",
       "    <tr>\n",
       "      <th>Crime</th>\n",
       "      <td>7.916935</td>\n",
       "    </tr>\n",
       "    <tr>\n",
       "      <th>Drama</th>\n",
       "      <td>7.902518</td>\n",
       "    </tr>\n",
       "    <tr>\n",
       "      <th>Horror</th>\n",
       "      <td>7.806897</td>\n",
       "    </tr>\n",
       "    <tr>\n",
       "      <th>Mystery</th>\n",
       "      <td>7.975000</td>\n",
       "    </tr>\n",
       "  </tbody>\n",
       "</table>\n",
       "</div>"
      ],
      "text/plain": [
       "           star_rating\n",
       "genre                 \n",
       "Action        7.884559\n",
       "Adventure     7.933333\n",
       "Animation     7.914516\n",
       "Biography     7.862338\n",
       "Comedy        7.822436\n",
       "Crime         7.916935\n",
       "Drama         7.902518\n",
       "Horror        7.806897\n",
       "Mystery       7.975000"
      ]
     },
     "execution_count": 119,
     "metadata": {},
     "output_type": "execute_result"
    }
   ],
   "source": [
    "genre_counts = ratingschangedf.groupby('genre').count()\n",
    "top_genres = list(genre_counts.loc[genre_counts.loc[:, 'star_rating'] > 9, :].index)\n",
    "ratingschangedf.loc[ratingschangedf.loc[:, 'genre'].isin(top_genres), ['genre', 'star_rating']].groupby('genre').mean()\n"
   ]
  },
  {
   "cell_type": "markdown",
   "metadata": {},
   "source": [
    "#### Option 3: calculate the average star rating for all genres, then filter using a boolean Series"
   ]
  },
  {
   "cell_type": "code",
   "execution_count": 123,
   "metadata": {},
   "outputs": [
    {
     "data": {
      "text/html": [
       "<div>\n",
       "<style scoped>\n",
       "    .dataframe tbody tr th:only-of-type {\n",
       "        vertical-align: middle;\n",
       "    }\n",
       "\n",
       "    .dataframe tbody tr th {\n",
       "        vertical-align: top;\n",
       "    }\n",
       "\n",
       "    .dataframe thead th {\n",
       "        text-align: right;\n",
       "    }\n",
       "</style>\n",
       "<table border=\"1\" class=\"dataframe\">\n",
       "  <thead>\n",
       "    <tr style=\"text-align: right;\">\n",
       "      <th></th>\n",
       "      <th>star_rating</th>\n",
       "    </tr>\n",
       "    <tr>\n",
       "      <th>genre</th>\n",
       "      <th></th>\n",
       "    </tr>\n",
       "  </thead>\n",
       "  <tbody>\n",
       "    <tr>\n",
       "      <th>Action</th>\n",
       "      <td>7.884559</td>\n",
       "    </tr>\n",
       "    <tr>\n",
       "      <th>Adventure</th>\n",
       "      <td>7.933333</td>\n",
       "    </tr>\n",
       "    <tr>\n",
       "      <th>Animation</th>\n",
       "      <td>7.914516</td>\n",
       "    </tr>\n",
       "    <tr>\n",
       "      <th>Biography</th>\n",
       "      <td>7.862338</td>\n",
       "    </tr>\n",
       "    <tr>\n",
       "      <th>Comedy</th>\n",
       "      <td>7.822436</td>\n",
       "    </tr>\n",
       "    <tr>\n",
       "      <th>Crime</th>\n",
       "      <td>7.916935</td>\n",
       "    </tr>\n",
       "    <tr>\n",
       "      <th>Drama</th>\n",
       "      <td>7.902518</td>\n",
       "    </tr>\n",
       "    <tr>\n",
       "      <th>Horror</th>\n",
       "      <td>7.806897</td>\n",
       "    </tr>\n",
       "    <tr>\n",
       "      <th>Mystery</th>\n",
       "      <td>7.975000</td>\n",
       "    </tr>\n",
       "  </tbody>\n",
       "</table>\n",
       "</div>"
      ],
      "text/plain": [
       "           star_rating\n",
       "genre                 \n",
       "Action        7.884559\n",
       "Adventure     7.933333\n",
       "Animation     7.914516\n",
       "Biography     7.862338\n",
       "Comedy        7.822436\n",
       "Crime         7.916935\n",
       "Drama         7.902518\n",
       "Horror        7.806897\n",
       "Mystery       7.975000"
      ]
     },
     "execution_count": 123,
     "metadata": {},
     "output_type": "execute_result"
    }
   ],
   "source": [
    "# Answer:\n",
    "avg_rating_by_genre = ratingschangedf.loc[:, ['genre', 'star_rating']].groupby('genre').mean()\n",
    "avg_rating_by_genre[avg_rating_by_genre.index.isin(top_genres)]\n"
   ]
  },
  {
   "cell_type": "markdown",
   "metadata": {},
   "source": [
    "#### Option 4: aggregate by count and mean, then filter using the count"
   ]
  },
  {
   "cell_type": "code",
   "execution_count": null,
   "metadata": {},
   "outputs": [],
   "source": [
    "# Answer:\n",
    "avg_rating_by_genre = ratingschangedf.loc[:, ['genre', 'star_rating']].groupby('genre').agg(['count', 'mean'])\n",
    "avg_rating_by_genre.loc[avg_rating_by_genre.loc[:, ('star_rating', 'count')] > 9, :]"
   ]
  },
  {
   "cell_type": "markdown",
   "metadata": {},
   "source": [
    "## Bonus"
   ]
  },
  {
   "cell_type": "markdown",
   "metadata": {
    "collapsed": true
   },
   "source": [
    "#### Figure out something \"interesting\" using the actors data!"
   ]
  },
  {
   "cell_type": "code",
   "execution_count": 213,
   "metadata": {
    "scrolled": true
   },
   "outputs": [
    {
     "name": "stdout",
     "output_type": "stream",
     "text": [
      "<class 'list'>\n",
      "979\n",
      "[\"[u'Tim Robbins', u'Morgan Freeman', u'Bob Gunton']\", \"[u'Marlon Brando', u'Al Pacino', u'James Caan']\", \"[u'Al Pacino', u'Robert De Niro', u'Robert Duvall']\", \"[u'Christian Bale', u'Heath Ledger', u'Aaron Eckhart']\", \"[u'John Travolta', u'Uma Thurman', u'Samuel L. Jackson']\"]\n"
     ]
    }
   ],
   "source": [
    "actors_lists = list(movies.loc[:, 'actors_list'])\n",
    "print(type(actors_lists))\n",
    "print(len(actors_lists))\n",
    "print(actors_lists[0:5])\n",
    "\n",
    "actors_lists= [i.replace('u', '') for i in actors_lists]\n",
    "actors_lists= [i.replace('[', '') for i in actors_lists]\n",
    "actors_lists= [i.replace(']', '') for i in actors_lists]\n",
    "actors_lists= [i.replace(\"'\", \"\") for i in actors_lists]\n",
    "actors_lists= [i.replace(\" \", \"\") for i in actors_lists]\n",
    "\n",
    "allactorinstances = []\n",
    "for i in range(0,len(actors_lists)):\n",
    "    split_lists = actors_lists[i].split(',')\n",
    "    allactorinstances = allactorinstances + split_lists\n"
   ]
  },
  {
   "cell_type": "code",
   "execution_count": 205,
   "metadata": {},
   "outputs": [],
   "source": [
    "a = ['a', 'b']\n",
    "c = ['d']"
   ]
  },
  {
   "cell_type": "code",
   "execution_count": 218,
   "metadata": {},
   "outputs": [
    {
     "ename": "TypeError",
     "evalue": "'set' object does not support indexing",
     "output_type": "error",
     "traceback": [
      "\u001b[1;31m---------------------------------------------------------------------------\u001b[0m",
      "\u001b[1;31mTypeError\u001b[0m                                 Traceback (most recent call last)",
      "\u001b[1;32m<ipython-input-218-e523a253d148>\u001b[0m in \u001b[0;36m<module>\u001b[1;34m()\u001b[0m\n\u001b[0;32m      3\u001b[0m \u001b[1;32mfor\u001b[0m \u001b[0mi\u001b[0m \u001b[1;32min\u001b[0m \u001b[0mrange\u001b[0m\u001b[1;33m(\u001b[0m\u001b[1;36m0\u001b[0m\u001b[1;33m,\u001b[0m \u001b[0mlen\u001b[0m\u001b[1;33m(\u001b[0m\u001b[0mactorset\u001b[0m\u001b[1;33m)\u001b[0m\u001b[1;33m)\u001b[0m\u001b[1;33m:\u001b[0m\u001b[1;33m\u001b[0m\u001b[0m\n\u001b[0;32m      4\u001b[0m     \u001b[1;32mfor\u001b[0m \u001b[0mj\u001b[0m \u001b[1;32min\u001b[0m \u001b[0mrange\u001b[0m\u001b[1;33m(\u001b[0m\u001b[1;36m0\u001b[0m\u001b[1;33m,\u001b[0m \u001b[0mlen\u001b[0m\u001b[1;33m(\u001b[0m\u001b[0mallactorinstances\u001b[0m\u001b[1;33m)\u001b[0m\u001b[1;33m)\u001b[0m\u001b[1;33m:\u001b[0m\u001b[1;33m\u001b[0m\u001b[0m\n\u001b[1;32m----> 5\u001b[1;33m         \u001b[1;32mif\u001b[0m \u001b[0mactorset\u001b[0m\u001b[1;33m[\u001b[0m\u001b[0mi\u001b[0m\u001b[1;33m]\u001b[0m \u001b[1;33m==\u001b[0m \u001b[0mallactorinstances\u001b[0m\u001b[1;33m[\u001b[0m\u001b[0mj\u001b[0m\u001b[1;33m]\u001b[0m\u001b[1;33m:\u001b[0m\u001b[1;33m\u001b[0m\u001b[0m\n\u001b[0m\u001b[0;32m      6\u001b[0m             \u001b[0mactor_count\u001b[0m\u001b[1;33m[\u001b[0m\u001b[1;34m'i'\u001b[0m\u001b[1;33m]\u001b[0m \u001b[1;33m+=\u001b[0m \u001b[1;36m1\u001b[0m\u001b[1;33m\u001b[0m\u001b[0m\n",
      "\u001b[1;31mTypeError\u001b[0m: 'set' object does not support indexing"
     ]
    }
   ],
   "source": [
    "actor_count = {}\n",
    "actorset = set(allactorinstances)\n",
    "for i in range(0, len(actorset)):\n",
    "    for j in range(0, len(allactorinstances)):\n",
    "        if actorset[i] == allactorinstances[j]:\n",
    "            actor_count['i'] += 1"
   ]
  },
  {
   "cell_type": "code",
   "execution_count": 216,
   "metadata": {},
   "outputs": [
    {
     "data": {
      "text/plain": [
       "{}"
      ]
     },
     "execution_count": 216,
     "metadata": {},
     "output_type": "execute_result"
    }
   ],
   "source": [
    "actor_count"
   ]
  },
  {
   "cell_type": "code",
   "execution_count": null,
   "metadata": {},
   "outputs": [],
   "source": []
  }
 ],
 "metadata": {
  "kernelspec": {
   "display_name": "Python 3",
   "language": "python",
   "name": "python3"
  },
  "language_info": {
   "codemirror_mode": {
    "name": "ipython",
    "version": 3
   },
   "file_extension": ".py",
   "mimetype": "text/x-python",
   "name": "python",
   "nbconvert_exporter": "python",
   "pygments_lexer": "ipython3",
   "version": "3.6.4"
  }
 },
 "nbformat": 4,
 "nbformat_minor": 1
}
