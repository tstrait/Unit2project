{
 "cells": [
  {
   "cell_type": "markdown",
   "metadata": {},
   "source": [
    "<img src=\"http://imgur.com/1ZcRyrc.png\" style=\"float: left; margin: 20px; height: 55px\">\n",
    "\n",
    "# Project 2: Analyzing Chipotle Data\n",
    "\n",
    "_Author: Joseph Nelson (DC)_\n",
    "\n",
    "---"
   ]
  },
  {
   "cell_type": "markdown",
   "metadata": {},
   "source": [
    "For Project 2, you will complete a series of exercises exploring [order data from Chipotle](https://github.com/TheUpshot/chipotle), compliments of _The New York Times'_ \"The Upshot.\"\n",
    "\n",
    "For these exercises, you will conduct basic exploratory data analysis (Pandas not required) to understand the essentials of Chipotle's order data: how many orders are being made, the average price per order, how many different ingredients are used, etc. These allow you to practice business analysis skills while also becoming comfortable with Python."
   ]
  },
  {
   "cell_type": "markdown",
   "metadata": {},
   "source": [
    "---\n",
    "\n",
    "## Basic Level"
   ]
  },
  {
   "cell_type": "markdown",
   "metadata": {},
   "source": [
    "### Part 1: Read in the file with `csv.reader()` and store it in an object called `file_nested_list`.\n",
    "\n",
    "Hint: This is a TSV (tab-separated value) file, and `csv.reader()` needs to be told [how to handle it](https://docs.python.org/2/library/csv.html)."
   ]
  },
  {
   "cell_type": "code",
   "execution_count": 2,
   "metadata": {},
   "outputs": [],
   "source": [
    "import csv\n",
    "from collections import namedtuple   # Convenient to store the data rows\n",
    "\n",
    "DATA_FILE = './data/chipotle.tsv'"
   ]
  },
  {
   "cell_type": "code",
   "execution_count": 3,
   "metadata": {},
   "outputs": [],
   "source": [
    "file_nested_list = []\n",
    "with open(DATA_FILE) as tsvfile:\n",
    "    f = csv.reader(tsvfile, delimiter='\\t')\n",
    "    for row in f:\n",
    "        file_nested_list.append(row)\n"
   ]
  },
  {
   "cell_type": "markdown",
   "metadata": {},
   "source": [
    "### Part 2: Separate `file_nested_list` into the `header` and the `data`.\n"
   ]
  },
  {
   "cell_type": "code",
   "execution_count": 4,
   "metadata": {},
   "outputs": [
    {
     "data": {
      "text/plain": [
       "list"
      ]
     },
     "execution_count": 4,
     "metadata": {},
     "output_type": "execute_result"
    }
   ],
   "source": [
    "type(file_nested_list)\n"
   ]
  },
  {
   "cell_type": "code",
   "execution_count": 5,
   "metadata": {},
   "outputs": [
    {
     "data": {
      "text/plain": [
       "4622"
      ]
     },
     "execution_count": 5,
     "metadata": {},
     "output_type": "execute_result"
    }
   ],
   "source": [
    "header = file_nested_list[0]\n",
    "data = file_nested_list[1:]\n",
    "len(data)\n",
    "\n",
    "for row in data:\n",
    "    row[1] = float(row[1])\n",
    "    row[0] = float(row[0])\n",
    "    \n",
    "len(data)"
   ]
  },
  {
   "cell_type": "code",
   "execution_count": 6,
   "metadata": {},
   "outputs": [],
   "source": [
    "#building a dictionary out of the data to make it easier to work with\n",
    "chipotle_data = {}\n",
    "for index, column in enumerate(header):\n",
    "    chipotle_data[column] = []\n",
    "    for row in data:\n",
    "        chipotle_data[column].append(row[index])\n",
    "\n"
   ]
  },
  {
   "cell_type": "markdown",
   "metadata": {},
   "source": [
    "---\n",
    "\n",
    "## Intermediate Level"
   ]
  },
  {
   "cell_type": "markdown",
   "metadata": {},
   "source": [
    "### Part 3: Calculate the average price of an order.\n",
    "\n",
    "Hint: Examine the data to see if the `quantity` column is relevant to this calculation.\n",
    "\n",
    "Hint: Think carefully about the simplest way to do this!"
   ]
  },
  {
   "cell_type": "code",
   "execution_count": 7,
   "metadata": {},
   "outputs": [
    {
     "data": {
      "text/plain": [
       "1834"
      ]
     },
     "execution_count": 7,
     "metadata": {},
     "output_type": "execute_result"
    }
   ],
   "source": [
    "import numpy as np\n",
    "quantity_data = [row[1] for row in data]\n",
    "quantity_data.count('1') \n",
    "#4355 out of 4622 total entries have a quantity = 1 (95%).  We may be able to ignore...\n",
    "# but quantity >1 means someone bought mulitple items, so their total order price is item price * quantity\n",
    "\n",
    "price_data = [row[4] for row in data]\n",
    "\n",
    "\n",
    "#turn all prices & quantities into floats\n",
    "price_data = [x.replace('$', '') for x in price_data]\n",
    "price_data = [float(x) for x in price_data]\n",
    "quantity_data = [float(x) for x in quantity_data]\n",
    "\n",
    "#create new list of total order prices, which = item price * quantity\n",
    "order_prices_tot = np.array(quantity_data) * np.array(price_data)\n",
    "\n",
    "#looking at the data, there are >1 lines per order_id (one row per item), so we want total order count to only be unique order ids\n",
    "\n",
    "order_ids = [row[0] for row in data]\n",
    "order_ids = set(order_ids)\n",
    "len(order_ids)"
   ]
  },
  {
   "cell_type": "code",
   "execution_count": 8,
   "metadata": {},
   "outputs": [
    {
     "data": {
      "text/plain": [
       "21.3942311886587"
      ]
     },
     "execution_count": 8,
     "metadata": {},
     "output_type": "execute_result"
    }
   ],
   "source": [
    "avg_order_price = sum(order_prices_tot)/len(order_ids)\n",
    "avg_order_price"
   ]
  },
  {
   "cell_type": "markdown",
   "metadata": {},
   "source": [
    "V2: Using the dictionary we built above:"
   ]
  },
  {
   "cell_type": "code",
   "execution_count": 9,
   "metadata": {},
   "outputs": [],
   "source": [
    "chipotle_data['quantity'] = [float(x) for x in chipotle_data['quantity']]\n",
    "chipotle_data['item_price'] = [x.replace('$', '') for x in chipotle_data['item_price']]\n",
    "chipotle_data['item_price'] = [float(x) for x in chipotle_data['item_price']]"
   ]
  },
  {
   "cell_type": "code",
   "execution_count": 10,
   "metadata": {},
   "outputs": [
    {
     "data": {
      "text/plain": [
       "21.3942311886587"
      ]
     },
     "execution_count": 10,
     "metadata": {},
     "output_type": "execute_result"
    }
   ],
   "source": [
    "#add a new dictionary element for order item price\n",
    "\n",
    "chipotle_data['total_order_item_cost'] = []\n",
    "for i in range(0, len(data)):\n",
    "    chipotle_data['total_order_item_cost'].append(chipotle_data['item_price'][i] * chipotle_data['quantity'][i])\n",
    "\n",
    "order_average = sum(chipotle_data['total_order_item_cost'])/len(set(chipotle_data['order_id']))\n",
    "order_average"
   ]
  },
  {
   "cell_type": "markdown",
   "metadata": {},
   "source": [
    "### Part 4: Create a list (or set) named `unique_sodas` containing all of unique sodas and soft drinks that Chipotle sells.\n",
    "\n",
    "Note: Just look for `'Canned Soda'` and `'Canned Soft Drink'`, and ignore other drinks like `'Izze'`."
   ]
  },
  {
   "cell_type": "code",
   "execution_count": 11,
   "metadata": {},
   "outputs": [],
   "source": [
    "unique_sodas = []\n",
    "\n",
    "for row in data:\n",
    "    if (row[2] == 'Canned Soda') or (row[2] == 'Canned Soft Drink'):\n",
    "        unique_sodas.append(row[3])\n",
    "\n",
    "unique_sodas = set(unique_sodas)\n"
   ]
  },
  {
   "cell_type": "code",
   "execution_count": 12,
   "metadata": {},
   "outputs": [
    {
     "data": {
      "text/plain": [
       "{'[Coca Cola]',\n",
       " '[Coke]',\n",
       " '[Diet Coke]',\n",
       " '[Diet Dr. Pepper]',\n",
       " '[Dr. Pepper]',\n",
       " '[Lemonade]',\n",
       " '[Mountain Dew]',\n",
       " '[Nestea]',\n",
       " '[Sprite]'}"
      ]
     },
     "execution_count": 12,
     "metadata": {},
     "output_type": "execute_result"
    }
   ],
   "source": [
    "unique_sodas"
   ]
  },
  {
   "cell_type": "code",
   "execution_count": null,
   "metadata": {},
   "outputs": [],
   "source": []
  },
  {
   "cell_type": "code",
   "execution_count": null,
   "metadata": {},
   "outputs": [],
   "source": []
  },
  {
   "cell_type": "markdown",
   "metadata": {},
   "source": [
    "---\n",
    "\n",
    "## Advanced Level\n"
   ]
  },
  {
   "cell_type": "markdown",
   "metadata": {},
   "source": [
    "### Part 5: Calculate the average number of toppings per burrito.\n",
    "\n",
    "Note: Let's ignore the `quantity` column to simplify this task.\n",
    "\n",
    "Hint: Think carefully about the easiest way to count the number of toppings!\n"
   ]
  },
  {
   "cell_type": "code",
   "execution_count": 13,
   "metadata": {},
   "outputs": [],
   "source": [
    "#build list of all order toppings, each list item is one burrito order\n",
    "burrito_order_toppings = []\n",
    "\n",
    "for row in data:\n",
    "    if row[2].find('Burrito') != -1:\n",
    "        burrito_order_toppings.append(row[3])"
   ]
  },
  {
   "cell_type": "code",
   "execution_count": 14,
   "metadata": {},
   "outputs": [],
   "source": [
    "# build a list of all topping counts\n",
    "burrito_topping_counts = []\n",
    "\n",
    "for i in range(0,len(burrito_order_toppings)):\n",
    "    burrito_topping_counts.append(len(burrito_order_toppings[i].split(',')))\n",
    "    "
   ]
  },
  {
   "cell_type": "code",
   "execution_count": 15,
   "metadata": {},
   "outputs": [
    {
     "data": {
      "text/plain": [
       "5.395051194539249"
      ]
     },
     "execution_count": 15,
     "metadata": {},
     "output_type": "execute_result"
    }
   ],
   "source": [
    "# average \n",
    "\n",
    "average_toppings = sum(burrito_topping_counts)/len(burrito_topping_counts)\n",
    "average_toppings"
   ]
  },
  {
   "cell_type": "code",
   "execution_count": null,
   "metadata": {},
   "outputs": [],
   "source": []
  },
  {
   "cell_type": "markdown",
   "metadata": {},
   "source": [
    "### Part 6: Create a dictionary. Let the keys represent chip orders and the values represent the total number of orders.\n",
    "\n",
    "Expected output: `{'Chips and Roasted Chili-Corn Salsa': 18, ... }`\n",
    "\n",
    "Note: Please take the `quantity` column into account!\n",
    "\n",
    "Optional: Learn how to use `.defaultdict()` to simplify your code."
   ]
  },
  {
   "cell_type": "code",
   "execution_count": 16,
   "metadata": {},
   "outputs": [
    {
     "data": {
      "text/plain": [
       "{'Chips': 230.0,\n",
       " 'Chips and Fresh Tomato Salsa': 130.0,\n",
       " 'Chips and Guacamole': 506.0,\n",
       " 'Chips and Mild Fresh Tomato Salsa': 1.0,\n",
       " 'Chips and Roasted Chili Corn Salsa': 23.0,\n",
       " 'Chips and Roasted Chili-Corn Salsa': 18.0,\n",
       " 'Chips and Tomatillo Green Chili Salsa': 45.0,\n",
       " 'Chips and Tomatillo Red Chili Salsa': 50.0,\n",
       " 'Chips and Tomatillo-Green Chili Salsa': 33.0,\n",
       " 'Chips and Tomatillo-Red Chili Salsa': 25.0,\n",
       " 'Side of Chips': 110.0}"
      ]
     },
     "execution_count": 16,
     "metadata": {},
     "output_type": "execute_result"
    }
   ],
   "source": [
    "#Build set of unique chip types\n",
    "chips = [s for s in list(set(chipotle_data['item_name'])) if 'Chips' in s]\n",
    "\n",
    "chip_orders = {}\n",
    "\n",
    "#add up item counts of each chip type into dictionary entry\n",
    "for i in chips:\n",
    "    chip_orders[i] = 0\n",
    "    for row in data:\n",
    "        if row[2] == i:\n",
    "            chip_orders[i] += row[1]\n",
    "chip_orders"
   ]
  },
  {
   "cell_type": "code",
   "execution_count": 17,
   "metadata": {
    "scrolled": false
   },
   "outputs": [
    {
     "data": {
      "text/plain": [
       "['Chips and Tomatillo Green Chili Salsa',\n",
       " 'Chips and Tomatillo-Red Chili Salsa',\n",
       " 'Chips and Guacamole',\n",
       " 'Chips and Roasted Chili Corn Salsa',\n",
       " 'Side of Chips',\n",
       " 'Chips and Roasted Chili-Corn Salsa',\n",
       " 'Chips and Tomatillo Red Chili Salsa',\n",
       " 'Chips',\n",
       " 'Chips and Mild Fresh Tomato Salsa',\n",
       " 'Chips and Fresh Tomato Salsa',\n",
       " 'Chips and Tomatillo-Green Chili Salsa']"
      ]
     },
     "execution_count": 17,
     "metadata": {},
     "output_type": "execute_result"
    }
   ],
   "source": [
    "[s for s in list(set(chipotle_data['item_name'])) if 'Chips' in s]"
   ]
  },
  {
   "cell_type": "code",
   "execution_count": 18,
   "metadata": {},
   "outputs": [
    {
     "data": {
      "text/plain": [
       "['order_id', 'quantity', 'item_name', 'choice_description', 'item_price']"
      ]
     },
     "execution_count": 18,
     "metadata": {},
     "output_type": "execute_result"
    }
   ],
   "source": [
    "header"
   ]
  },
  {
   "cell_type": "code",
   "execution_count": null,
   "metadata": {},
   "outputs": [],
   "source": []
  },
  {
   "cell_type": "markdown",
   "metadata": {},
   "source": [
    "---\n",
    "\n",
    "## Bonus: Craft a problem statement about this data that interests you, and then answer it!\n"
   ]
  },
  {
   "cell_type": "code",
   "execution_count": null,
   "metadata": {},
   "outputs": [],
   "source": []
  },
  {
   "cell_type": "code",
   "execution_count": null,
   "metadata": {},
   "outputs": [],
   "source": []
  },
  {
   "cell_type": "code",
   "execution_count": null,
   "metadata": {},
   "outputs": [],
   "source": []
  },
  {
   "cell_type": "code",
   "execution_count": null,
   "metadata": {},
   "outputs": [],
   "source": []
  }
 ],
 "metadata": {
  "anaconda-cloud": {},
  "kernelspec": {
   "display_name": "Python 3",
   "language": "python",
   "name": "python3"
  },
  "language_info": {
   "codemirror_mode": {
    "name": "ipython",
    "version": 3
   },
   "file_extension": ".py",
   "mimetype": "text/x-python",
   "name": "python",
   "nbconvert_exporter": "python",
   "pygments_lexer": "ipython3",
   "version": "3.6.4"
  }
 },
 "nbformat": 4,
 "nbformat_minor": 2
}
